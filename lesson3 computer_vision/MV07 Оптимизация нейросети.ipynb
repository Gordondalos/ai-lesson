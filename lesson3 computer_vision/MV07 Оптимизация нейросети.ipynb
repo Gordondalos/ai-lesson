{
 "cells": [
  {
   "cell_type": "markdown",
   "metadata": {},
   "source": [
    "# Оптимизация нейросети\n",
    "Используем регуляризацию, отсев, пакетную нормализацию и инициализацию весов, чтобы улучшить точность работы нейросети.\n",
    "\n",
    "Используем архитектуру LeNet.\n",
    "![Отсев](dropout.png)"
   ]
  },
  {
   "cell_type": "markdown",
   "metadata": {},
   "source": [
    "### Подключение библиотек"
   ]
  },
  {
   "cell_type": "code",
   "execution_count": 1,
   "metadata": {},
   "outputs": [
    {
     "name": "stderr",
     "output_type": "stream",
     "text": [
      "Using TensorFlow backend.\n"
     ]
    }
   ],
   "source": [
    "import numpy as np\n",
    "import keras as K\n",
    "from sklearn.metrics import classification_report\n",
    "import matplotlib.pyplot as plt"
   ]
  },
  {
   "cell_type": "markdown",
   "metadata": {},
   "source": [
    "### Загрузка набора MNIST"
   ]
  },
  {
   "cell_type": "code",
   "execution_count": 2,
   "metadata": {},
   "outputs": [],
   "source": [
    "(X_train, y_train), (X_test, y_test) = K.datasets.mnist.load_data()\n",
    "X_train = np.expand_dims(X_train, -1)\n",
    "X_test = np.expand_dims(X_test, -1)\n",
    "y_train = K.utils.to_categorical(y_train, 10)\n",
    "y_test = K.utils.to_categorical(y_test, 10)"
   ]
  },
  {
   "cell_type": "markdown",
   "metadata": {},
   "source": [
    "### Оптимизированная модель нейронной сети\n",
    "Свертка 6@5x5 -> Нормализация -> Подвыборка 2x2 -> Нормализация -> Свертка 16@5x5 -> Нормализация -> Подвыборка 2x2 -> Нормализация -> Полносвязный слой 120 -> Отсев -> Полносвязный слой 84 -> Отсев -> Выходной слой 10"
   ]
  },
  {
   "cell_type": "markdown",
   "metadata": {},
   "source": [
    "* Регуляризация - ограничение весов нейросети по ElasticNet: L1 (сумма модулей) и L2 (сумма квадратов)\n",
    "* Отсев - случайное отключение узлов на очередном шаге обучения\n",
    "* Пакетная нормализация - линейное преобразование данных между слоями\n",
    "* Инициализация весов - начальные, нормально распределенные, значения весов нейросети"
   ]
  },
  {
   "cell_type": "code",
   "execution_count": 3,
   "metadata": {},
   "outputs": [],
   "source": [
    "model = K.Sequential()\n",
    "model.add(K.layers.Conv2D(filters=6, kernel_size=(5,5), activation=\"relu\",\n",
    "                         input_shape=(28, 28, 1), kernel_initializer=\"he_normal\"))\n",
    "model.add(K.layers.BatchNormalization())\n",
    "model.add(K.layers.AveragePooling2D())\n",
    "model.add(K.layers.Conv2D(filters=16, kernel_size=(5,5), activation=\"relu\", kernel_initializer=\"he_normal\"))\n",
    "model.add(K.layers.BatchNormalization())\n",
    "model.add(K.layers.AveragePooling2D())\n",
    "model.add(K.layers.Flatten())\n",
    "model.add(K.layers.Dense(units=120, activation=\"relu\",\n",
    "                         kernel_regularizer=K.regularizers.l1_l2(l1=1e-4, l2=1e-5),\n",
    "                         kernel_initializer=\"he_normal\"))\n",
    "model.add(K.layers.BatchNormalization())\n",
    "model.add(K.layers.Dropout(0.2))\n",
    "model.add(K.layers.Dense(units=84, activation=\"relu\",\n",
    "                         kernel_regularizer=K.regularizers.l1_l2(l1=1e-4, l2=1e-5),\n",
    "                         kernel_initializer=\"he_normal\"))\n",
    "model.add(K.layers.BatchNormalization())\n",
    "model.add(K.layers.Dropout(0.2))\n",
    "model.add(K.layers.Dense(units=10, activation=\"softmax\"))\n",
    "model.compile(optimizer=\"SGD\", loss=K.losses.categorical_crossentropy)"
   ]
  },
  {
   "cell_type": "markdown",
   "metadata": {},
   "source": [
    "### Обучение нейросети"
   ]
  },
  {
   "cell_type": "markdown",
   "metadata": {},
   "source": [
    "Число пересчетов весов при обратном распространении ошибки = число итераций * число эпох\n",
    "\n",
    "batch_size ~= число классов * 10, но не больше оперативной памяти"
   ]
  },
  {
   "cell_type": "code",
   "execution_count": 4,
   "metadata": {},
   "outputs": [
    {
     "name": "stdout",
     "output_type": "stream",
     "text": [
      "Epoch 1/50\n",
      "60000/60000 [==============================] - 18s 298us/step - loss: 1.0137\n",
      "Epoch 2/50\n",
      "60000/60000 [==============================] - 17s 289us/step - loss: 0.5947\n",
      "Epoch 3/50\n",
      "60000/60000 [==============================] - 16s 273us/step - loss: 0.5285\n",
      "Epoch 4/50\n",
      "60000/60000 [==============================] - 15s 252us/step - loss: 0.4935\n",
      "Epoch 5/50\n",
      "60000/60000 [==============================] - 17s 287us/step - loss: 0.4710\n",
      "Epoch 6/50\n",
      "60000/60000 [==============================] - 21s 342us/step - loss: 0.4557\n",
      "Epoch 7/50\n",
      "60000/60000 [==============================] - 18s 307us/step - loss: 0.4452\n",
      "Epoch 8/50\n",
      "60000/60000 [==============================] - 18s 296us/step - loss: 0.4338\n",
      "Epoch 9/50\n",
      "60000/60000 [==============================] - 16s 269us/step - loss: 0.4221\n",
      "Epoch 10/50\n",
      "60000/60000 [==============================] - 16s 265us/step - loss: 0.4154\n",
      "Epoch 11/50\n",
      "60000/60000 [==============================] - 16s 270us/step - loss: 0.4097\n",
      "Epoch 12/50\n",
      "60000/60000 [==============================] - 22s 372us/step - loss: 0.4030\n",
      "Epoch 13/50\n",
      "60000/60000 [==============================] - 24s 405us/step - loss: 0.3984\n",
      "Epoch 14/50\n",
      "60000/60000 [==============================] - 26s 438us/step - loss: 0.3920\n",
      "Epoch 15/50\n",
      "60000/60000 [==============================] - 26s 429us/step - loss: 0.3855\n",
      "Epoch 16/50\n",
      "60000/60000 [==============================] - 28s 469us/step - loss: 0.3811\n",
      "Epoch 17/50\n",
      "60000/60000 [==============================] - 26s 440us/step - loss: 0.3781\n",
      "Epoch 18/50\n",
      "60000/60000 [==============================] - 31s 514us/step - loss: 0.3739\n",
      "Epoch 19/50\n",
      "60000/60000 [==============================] - 28s 469us/step - loss: 0.3698\n",
      "Epoch 20/50\n",
      "60000/60000 [==============================] - 25s 418us/step - loss: 0.3653\n",
      "Epoch 21/50\n",
      "60000/60000 [==============================] - 24s 402us/step - loss: 0.3615\n",
      "Epoch 22/50\n",
      "60000/60000 [==============================] - 25s 422us/step - loss: 0.35810s - loss: \n",
      "Epoch 23/50\n",
      "60000/60000 [==============================] - 24s 406us/step - loss: 0.3545\n",
      "Epoch 24/50\n",
      "60000/60000 [==============================] - 24s 399us/step - loss: 0.3506\n",
      "Epoch 25/50\n",
      "60000/60000 [==============================] - 24s 400us/step - loss: 0.3489\n",
      "Epoch 26/50\n",
      "60000/60000 [==============================] - 23s 378us/step - loss: 0.34510s - loss: \n",
      "Epoch 27/50\n",
      "60000/60000 [==============================] - 23s 380us/step - loss: 0.3419\n",
      "Epoch 28/50\n",
      "60000/60000 [==============================] - 23s 378us/step - loss: 0.3393\n",
      "Epoch 29/50\n",
      "60000/60000 [==============================] - 25s 409us/step - loss: 0.3349\n",
      "Epoch 30/50\n",
      "60000/60000 [==============================] - 24s 406us/step - loss: 0.3330\n",
      "Epoch 31/50\n",
      "60000/60000 [==============================] - 26s 437us/step - loss: 0.3311\n",
      "Epoch 32/50\n",
      "60000/60000 [==============================] - 26s 433us/step - loss: 0.3277\n",
      "Epoch 33/50\n",
      "60000/60000 [==============================] - 24s 392us/step - loss: 0.3271\n",
      "Epoch 34/50\n",
      "60000/60000 [==============================] - 23s 391us/step - loss: 0.3235\n",
      "Epoch 35/50\n",
      "60000/60000 [==============================] - 24s 401us/step - loss: 0.3208\n",
      "Epoch 36/50\n",
      "60000/60000 [==============================] - 25s 409us/step - loss: 0.3169\n",
      "Epoch 37/50\n",
      "60000/60000 [==============================] - 25s 409us/step - loss: 0.3150\n",
      "Epoch 38/50\n",
      "60000/60000 [==============================] - 24s 405us/step - loss: 0.3118\n",
      "Epoch 39/50\n",
      "60000/60000 [==============================] - 24s 406us/step - loss: 0.3097\n",
      "Epoch 40/50\n",
      "60000/60000 [==============================] - 24s 403us/step - loss: 0.3061\n",
      "Epoch 41/50\n",
      "60000/60000 [==============================] - 24s 401us/step - loss: 0.3055\n",
      "Epoch 42/50\n",
      "60000/60000 [==============================] - 25s 418us/step - loss: 0.3022\n",
      "Epoch 43/50\n",
      "60000/60000 [==============================] - 25s 418us/step - loss: 0.3009\n",
      "Epoch 44/50\n",
      "60000/60000 [==============================] - 26s 432us/step - loss: 0.2985\n",
      "Epoch 45/50\n",
      "60000/60000 [==============================] - 26s 441us/step - loss: 0.2962\n",
      "Epoch 46/50\n",
      "60000/60000 [==============================] - 25s 414us/step - loss: 0.2937\n",
      "Epoch 47/50\n",
      "60000/60000 [==============================] - 27s 448us/step - loss: 0.2920\n",
      "Epoch 48/50\n",
      "60000/60000 [==============================] - 24s 399us/step - loss: 0.2895\n",
      "Epoch 49/50\n",
      "60000/60000 [==============================] - 24s 400us/step - loss: 0.2861\n",
      "Epoch 50/50\n",
      "60000/60000 [==============================] - 27s 452us/step - loss: 0.2852\n"
     ]
    },
    {
     "data": {
      "text/plain": [
       "<keras.callbacks.callbacks.History at 0x11147f3e310>"
      ]
     },
     "execution_count": 4,
     "metadata": {},
     "output_type": "execute_result"
    }
   ],
   "source": [
    "model.fit(X_train, y_train, batch_size=128, epochs=50)"
   ]
  },
  {
   "cell_type": "markdown",
   "metadata": {},
   "source": [
    "### Предсказание значений и оценка"
   ]
  },
  {
   "cell_type": "code",
   "execution_count": 5,
   "metadata": {},
   "outputs": [
    {
     "name": "stdout",
     "output_type": "stream",
     "text": [
      "              precision    recall  f1-score   support\n",
      "\n",
      "           0     0.9959    0.9929    0.9944       983\n",
      "           1     0.9991    0.9939    0.9965      1141\n",
      "           2     0.9893    0.9903    0.9898      1031\n",
      "           3     0.9901    0.9940    0.9921      1006\n",
      "           4     0.9969    0.9929    0.9949       986\n",
      "           5     0.9865    0.9899    0.9882       889\n",
      "           6     0.9927    0.9906    0.9917       960\n",
      "           7     0.9922    0.9827    0.9874      1038\n",
      "           8     0.9887    0.9969    0.9928       966\n",
      "           9     0.9832    0.9920    0.9876      1000\n",
      "\n",
      "    accuracy                         0.9916     10000\n",
      "   macro avg     0.9915    0.9916    0.9915     10000\n",
      "weighted avg     0.9916    0.9916    0.9916     10000\n",
      "\n"
     ]
    }
   ],
   "source": [
    "r = np.argmax(model.predict(X_test), axis=1)\n",
    "print (classification_report(r, np.argmax(y_test, axis=1), digits=4))"
   ]
  }
 ],
 "metadata": {
  "kernelspec": {
   "display_name": "Python 3",
   "language": "python",
   "name": "python3"
  },
  "language_info": {
   "codemirror_mode": {
    "name": "ipython",
    "version": 3
   },
   "file_extension": ".py",
   "mimetype": "text/x-python",
   "name": "python",
   "nbconvert_exporter": "python",
   "pygments_lexer": "ipython3",
   "version": "3.8.3"
  }
 },
 "nbformat": 4,
 "nbformat_minor": 4
}
