{
 "cells": [
  {
   "cell_type": "markdown",
   "metadata": {},
   "source": [
    "# VGG для MNIST\n",
    "Используем обученную нейросеть VGG без последнего слоя для классификации цифр.\n",
    "\n",
    "Изменим размеры изображений до 32x32 (5 слоев подвыборки) и приведем их к полноцветным. Обучим последние слои нейросети на этом наборе и проверим точность.\n",
    "\n",
    "![VGG](vgg16-neural-network-1.jpg)"
   ]
  },
  {
   "cell_type": "markdown",
   "metadata": {},
   "source": [
    "### Подключение библиотек"
   ]
  },
  {
   "cell_type": "code",
   "execution_count": 1,
   "metadata": {},
   "outputs": [
    {
     "name": "stderr",
     "output_type": "stream",
     "text": [
      "Using TensorFlow backend.\n"
     ]
    }
   ],
   "source": [
    "import numpy as np\n",
    "import pandas as pd\n",
    "import keras as K\n",
    "from sklearn.metrics import classification_report\n",
    "import cv2"
   ]
  },
  {
   "cell_type": "markdown",
   "metadata": {},
   "source": [
    "### Загрузка набора MNIST"
   ]
  },
  {
   "cell_type": "code",
   "execution_count": 2,
   "metadata": {},
   "outputs": [],
   "source": [
    "(X_train, y_train), (X_test, y_test) = K.datasets.mnist.load_data()"
   ]
  },
  {
   "cell_type": "markdown",
   "metadata": {},
   "source": [
    "### Конвертация изображений\n",
    "Серые 28x28 -> полноцветные 32x32"
   ]
  },
  {
   "cell_type": "code",
   "execution_count": 5,
   "metadata": {},
   "outputs": [],
   "source": [
    "def convert_data (x):\n",
    "    data_rgb = []\n",
    "    for i in x:\n",
    "        img = cv2.resize(i, (32, 32), interpolation=cv2.INTER_AREA)\n",
    "        rgb = np.asarray(np.dstack((img, img, img)), dtype=np.uint8)\n",
    "        data_rgb.append(rgb)\n",
    "    data_rgb = np.stack([data_rgb], axis=4)\n",
    "    return np.squeeze(data_rgb, axis=4)"
   ]
  },
  {
   "cell_type": "code",
   "execution_count": 6,
   "metadata": {},
   "outputs": [
    {
     "name": "stdout",
     "output_type": "stream",
     "text": [
      "(60000, 32, 32, 3)\n"
     ]
    }
   ],
   "source": [
    "data_rgb = convert_data(X_train)\n",
    "print (data_rgb.shape)"
   ]
  },
  {
   "cell_type": "markdown",
   "metadata": {},
   "source": [
    "### Загрузка обученной модели\n",
    "Без последнего слоя - его и будем обучать"
   ]
  },
  {
   "cell_type": "code",
   "execution_count": 7,
   "metadata": {},
   "outputs": [],
   "source": [
    "base_model = K.applications.vgg16.VGG16(weights=\"imagenet\", include_top=False)"
   ]
  },
  {
   "cell_type": "markdown",
   "metadata": {},
   "source": [
    "### Фиксация всех текущих весов модели\n",
    "И добавление последнего слоя для классификации"
   ]
  },
  {
   "cell_type": "code",
   "execution_count": 8,
   "metadata": {},
   "outputs": [],
   "source": [
    "for layer in base_model.layers:\n",
    "    layer.trainable = False"
   ]
  },
  {
   "cell_type": "code",
   "execution_count": 13,
   "metadata": {},
   "outputs": [],
   "source": [
    "x = base_model.output\n",
    "x = K.layers.GlobalAveragePooling2D()(x)\n",
    "x = K.layers.Dense(4096, activation=\"relu\")(x)\n",
    "x = K.layers.Dense(10, activation=\"softmax\")(x)\n",
    "model = K.models.Model(inputs=base_model.input, outputs=x)\n",
    "model.compile(optimizer=\"SGD\", loss=K.losses.categorical_crossentropy)"
   ]
  },
  {
   "cell_type": "markdown",
   "metadata": {},
   "source": [
    "### Обучение нейросети"
   ]
  },
  {
   "cell_type": "code",
   "execution_count": 14,
   "metadata": {
    "scrolled": true
   },
   "outputs": [
    {
     "name": "stdout",
     "output_type": "stream",
     "text": [
      "Epoch 1/100\n",
      "60000/60000 [==============================] - 223s 4ms/step - loss: 23.3241\n",
      "Epoch 2/100\n",
      "60000/60000 [==============================] - 211s 4ms/step - loss: 0.7039\n",
      "Epoch 3/100\n",
      "60000/60000 [==============================] - 210s 4ms/step - loss: 0.5751\n",
      "Epoch 4/100\n",
      "60000/60000 [==============================] - 209s 3ms/step - loss: 0.4794\n",
      "Epoch 5/100\n",
      "60000/60000 [==============================] - 209s 3ms/step - loss: 0.4438\n",
      "Epoch 6/100\n",
      "60000/60000 [==============================] - 210s 4ms/step - loss: 0.4480\n",
      "Epoch 7/100\n",
      "60000/60000 [==============================] - 209s 3ms/step - loss: 0.3910\n",
      "Epoch 8/100\n",
      "60000/60000 [==============================] - 209s 3ms/step - loss: 0.3684\n",
      "Epoch 9/100\n",
      "60000/60000 [==============================] - 210s 4ms/step - loss: 0.3244\n",
      "Epoch 10/100\n",
      "60000/60000 [==============================] - 209s 3ms/step - loss: 0.3895\n",
      "Epoch 11/100\n",
      "60000/60000 [==============================] - 209s 3ms/step - loss: 0.3108\n",
      "Epoch 12/100\n",
      "60000/60000 [==============================] - 210s 3ms/step - loss: 0.3264\n",
      "Epoch 13/100\n",
      "60000/60000 [==============================] - 209s 3ms/step - loss: 0.2687\n",
      "Epoch 14/100\n",
      "60000/60000 [==============================] - 209s 3ms/step - loss: 0.3005\n",
      "Epoch 15/100\n",
      "60000/60000 [==============================] - 211s 4ms/step - loss: 0.2838\n",
      "Epoch 16/100\n",
      "60000/60000 [==============================] - 210s 3ms/step - loss: 0.2757\n",
      "Epoch 17/100\n",
      "60000/60000 [==============================] - 209s 3ms/step - loss: 0.2736\n",
      "Epoch 18/100\n",
      "60000/60000 [==============================] - 210s 4ms/step - loss: 0.2819\n",
      "Epoch 19/100\n",
      "60000/60000 [==============================] - 209s 3ms/step - loss: 0.2349\n",
      "Epoch 20/100\n",
      "60000/60000 [==============================] - 211s 4ms/step - loss: 0.2643\n",
      "Epoch 21/100\n",
      "60000/60000 [==============================] - 212s 4ms/step - loss: 0.2608\n",
      "Epoch 22/100\n",
      "60000/60000 [==============================] - 209s 3ms/step - loss: 0.2150\n",
      "Epoch 23/100\n",
      "60000/60000 [==============================] - 209s 3ms/step - loss: 0.2180\n",
      "Epoch 24/100\n",
      "60000/60000 [==============================] - 210s 3ms/step - loss: 0.2611\n",
      "Epoch 25/100\n",
      "60000/60000 [==============================] - 214s 4ms/step - loss: 0.2072\n",
      "Epoch 26/100\n",
      "60000/60000 [==============================] - 224s 4ms/step - loss: 0.2062\n",
      "Epoch 27/100\n",
      "60000/60000 [==============================] - 219s 4ms/step - loss: 0.2241\n",
      "Epoch 28/100\n",
      "60000/60000 [==============================] - 211s 4ms/step - loss: 0.2713\n",
      "Epoch 29/100\n",
      "60000/60000 [==============================] - 211s 4ms/step - loss: 0.1922\n",
      "Epoch 30/100\n",
      "60000/60000 [==============================] - 210s 4ms/step - loss: 0.1897\n",
      "Epoch 31/100\n",
      "60000/60000 [==============================] - 210s 3ms/step - loss: 0.1949\n",
      "Epoch 32/100\n",
      "60000/60000 [==============================] - 211s 4ms/step - loss: 0.2118\n",
      "Epoch 33/100\n",
      "60000/60000 [==============================] - 209s 3ms/step - loss: 0.2522\n",
      "Epoch 34/100\n",
      "60000/60000 [==============================] - 208s 3ms/step - loss: 0.1869\n",
      "Epoch 35/100\n",
      "60000/60000 [==============================] - 209s 3ms/step - loss: 0.2026\n",
      "Epoch 36/100\n",
      "60000/60000 [==============================] - 209s 3ms/step - loss: 0.1855\n",
      "Epoch 37/100\n",
      "60000/60000 [==============================] - 209s 3ms/step - loss: 0.1828\n",
      "Epoch 38/100\n",
      "60000/60000 [==============================] - 209s 3ms/step - loss: 0.1786\n",
      "Epoch 39/100\n",
      "60000/60000 [==============================] - 209s 3ms/step - loss: 0.1699\n",
      "Epoch 40/100\n",
      "60000/60000 [==============================] - 209s 3ms/step - loss: 0.1698\n",
      "Epoch 41/100\n",
      "60000/60000 [==============================] - 210s 3ms/step - loss: 0.2466\n",
      "Epoch 42/100\n",
      "60000/60000 [==============================] - 209s 3ms/step - loss: 0.2143\n",
      "Epoch 43/100\n",
      "60000/60000 [==============================] - 209s 3ms/step - loss: 0.1650\n",
      "Epoch 44/100\n",
      "60000/60000 [==============================] - 209s 3ms/step - loss: 0.1621\n",
      "Epoch 45/100\n",
      "60000/60000 [==============================] - 209s 3ms/step - loss: 0.1610\n",
      "Epoch 46/100\n",
      "60000/60000 [==============================] - 210s 3ms/step - loss: 0.1608\n",
      "Epoch 47/100\n",
      "60000/60000 [==============================] - 208s 3ms/step - loss: 0.1592\n",
      "Epoch 48/100\n",
      "60000/60000 [==============================] - 209s 3ms/step - loss: 0.1696\n",
      "Epoch 49/100\n",
      "60000/60000 [==============================] - 210s 4ms/step - loss: 0.1758\n",
      "Epoch 50/100\n",
      "60000/60000 [==============================] - 211s 4ms/step - loss: 0.1676\n",
      "Epoch 51/100\n",
      "60000/60000 [==============================] - 211s 4ms/step - loss: 0.1712\n",
      "Epoch 52/100\n",
      "60000/60000 [==============================] - 212s 4ms/step - loss: 0.1797\n",
      "Epoch 53/100\n",
      "60000/60000 [==============================] - 210s 3ms/step - loss: 0.1495\n",
      "Epoch 54/100\n",
      "60000/60000 [==============================] - 209s 3ms/step - loss: 0.1497\n",
      "Epoch 55/100\n",
      "60000/60000 [==============================] - 209s 3ms/step - loss: 0.1486\n",
      "Epoch 56/100\n",
      "60000/60000 [==============================] - 209s 3ms/step - loss: 0.1457\n",
      "Epoch 57/100\n",
      "60000/60000 [==============================] - 208s 3ms/step - loss: 0.1443\n",
      "Epoch 58/100\n",
      "60000/60000 [==============================] - 209s 3ms/step - loss: 0.1449\n",
      "Epoch 59/100\n",
      "60000/60000 [==============================] - 208s 3ms/step - loss: 0.1466\n",
      "Epoch 60/100\n",
      "60000/60000 [==============================] - 209s 3ms/step - loss: 0.1538\n",
      "Epoch 61/100\n",
      "60000/60000 [==============================] - 209s 3ms/step - loss: 0.2346\n",
      "Epoch 62/100\n",
      "60000/60000 [==============================] - 208s 3ms/step - loss: 0.1422\n",
      "Epoch 63/100\n",
      "60000/60000 [==============================] - 209s 3ms/step - loss: 0.1398\n",
      "Epoch 64/100\n",
      "60000/60000 [==============================] - 209s 3ms/step - loss: 0.1394\n",
      "Epoch 65/100\n",
      "60000/60000 [==============================] - 209s 3ms/step - loss: 0.1369\n",
      "Epoch 66/100\n",
      "60000/60000 [==============================] - 212s 4ms/step - loss: 0.1381\n",
      "Epoch 67/100\n",
      "60000/60000 [==============================] - 208s 3ms/step - loss: 0.1367\n",
      "Epoch 68/100\n",
      "60000/60000 [==============================] - 208s 3ms/step - loss: 0.1400\n",
      "Epoch 69/100\n",
      "60000/60000 [==============================] - 210s 3ms/step - loss: 0.1371\n",
      "Epoch 70/100\n",
      "60000/60000 [==============================] - 209s 3ms/step - loss: 0.1325\n",
      "Epoch 71/100\n",
      "60000/60000 [==============================] - 208s 3ms/step - loss: 0.1332\n",
      "Epoch 72/100\n",
      "60000/60000 [==============================] - 209s 3ms/step - loss: 0.1395\n",
      "Epoch 73/100\n",
      "60000/60000 [==============================] - 208s 3ms/step - loss: 0.2657\n",
      "Epoch 74/100\n",
      "60000/60000 [==============================] - 208s 3ms/step - loss: 0.1334\n",
      "Epoch 75/100\n",
      "60000/60000 [==============================] - 209s 3ms/step - loss: 0.1307\n",
      "Epoch 76/100\n",
      "60000/60000 [==============================] - 208s 3ms/step - loss: 0.1296\n",
      "Epoch 77/100\n",
      "60000/60000 [==============================] - 208s 3ms/step - loss: 0.1285\n",
      "Epoch 78/100\n",
      "60000/60000 [==============================] - 210s 3ms/step - loss: 0.1268\n",
      "Epoch 79/100\n",
      "60000/60000 [==============================] - 208s 3ms/step - loss: 0.1279\n",
      "Epoch 80/100\n",
      "60000/60000 [==============================] - 208s 3ms/step - loss: 0.1317\n",
      "Epoch 81/100\n",
      "60000/60000 [==============================] - 209s 3ms/step - loss: 0.1309\n",
      "Epoch 82/100\n",
      "60000/60000 [==============================] - 209s 3ms/step - loss: 0.1242\n",
      "Epoch 83/100\n",
      "60000/60000 [==============================] - 209s 3ms/step - loss: 0.1238\n",
      "Epoch 84/100\n",
      "60000/60000 [==============================] - 210s 4ms/step - loss: 0.1229\n",
      "Epoch 85/100\n",
      "60000/60000 [==============================] - 208s 3ms/step - loss: 0.1226\n",
      "Epoch 86/100\n",
      "60000/60000 [==============================] - 212s 4ms/step - loss: 0.1213\n",
      "Epoch 87/100\n",
      "60000/60000 [==============================] - 211s 4ms/step - loss: 0.1273\n",
      "Epoch 88/100\n",
      "60000/60000 [==============================] - 208s 3ms/step - loss: 0.1275\n",
      "Epoch 89/100\n",
      "60000/60000 [==============================] - 209s 3ms/step - loss: 0.1793\n",
      "Epoch 90/100\n",
      "60000/60000 [==============================] - 209s 3ms/step - loss: 0.1279\n",
      "Epoch 91/100\n",
      "60000/60000 [==============================] - 209s 3ms/step - loss: 0.1195\n",
      "Epoch 92/100\n",
      "60000/60000 [==============================] - 210s 3ms/step - loss: 0.1187\n",
      "Epoch 93/100\n"
     ]
    },
    {
     "name": "stdout",
     "output_type": "stream",
     "text": [
      "60000/60000 [==============================] - 209s 3ms/step - loss: 0.1197\n",
      "Epoch 94/100\n",
      "60000/60000 [==============================] - 208s 3ms/step - loss: 0.1175\n",
      "Epoch 95/100\n",
      "60000/60000 [==============================] - 209s 3ms/step - loss: 0.1164\n",
      "Epoch 96/100\n",
      "60000/60000 [==============================] - 209s 3ms/step - loss: 0.1160\n",
      "Epoch 97/100\n",
      "60000/60000 [==============================] - 208s 3ms/step - loss: 0.1170\n",
      "Epoch 98/100\n",
      "60000/60000 [==============================] - 210s 3ms/step - loss: 0.1208\n",
      "Epoch 99/100\n",
      "60000/60000 [==============================] - 209s 3ms/step - loss: 0.1164\n",
      "Epoch 100/100\n",
      "60000/60000 [==============================] - 209s 3ms/step - loss: 0.1144\n"
     ]
    },
    {
     "data": {
      "text/plain": [
       "<keras.callbacks.callbacks.History at 0x1898b3aed60>"
      ]
     },
     "execution_count": 14,
     "metadata": {},
     "output_type": "execute_result"
    }
   ],
   "source": [
    "model.fit(data_rgb, K.utils.to_categorical(y_train, 10), batch_size=5000, epochs=100)"
   ]
  },
  {
   "cell_type": "markdown",
   "metadata": {},
   "source": [
    "### Предсказание значений и оценка"
   ]
  },
  {
   "cell_type": "code",
   "execution_count": 15,
   "metadata": {},
   "outputs": [
    {
     "name": "stdout",
     "output_type": "stream",
     "text": [
      "              precision    recall  f1-score   support\n",
      "\n",
      "           0     0.9786    0.9897    0.9841       969\n",
      "           1     0.9912    0.9817    0.9864      1146\n",
      "           2     0.9312    0.9459    0.9385      1016\n",
      "           3     0.9525    0.9295    0.9408      1035\n",
      "           4     0.9613    0.9555    0.9584       988\n",
      "           5     0.9137    0.9076    0.9106       898\n",
      "           6     0.9635    0.9655    0.9645       956\n",
      "           7     0.9572    0.9638    0.9605      1021\n",
      "           8     0.9559    0.9608    0.9583       969\n",
      "           9     0.9524    0.9591    0.9557      1002\n",
      "\n",
      "    accuracy                         0.9565     10000\n",
      "   macro avg     0.9557    0.9559    0.9558     10000\n",
      "weighted avg     0.9565    0.9565    0.9565     10000\n",
      "\n"
     ]
    }
   ],
   "source": [
    "result = np.argmax(model.predict(convert_data(X_test)), axis=1)\n",
    "print (classification_report(result, y_test, digits=4))"
   ]
  }
 ],
 "metadata": {
  "kernelspec": {
   "display_name": "Python 3",
   "language": "python",
   "name": "python3"
  },
  "language_info": {
   "codemirror_mode": {
    "name": "ipython",
    "version": 3
   },
   "file_extension": ".py",
   "mimetype": "text/x-python",
   "name": "python",
   "nbconvert_exporter": "python",
   "pygments_lexer": "ipython3",
   "version": "3.8.3"
  }
 },
 "nbformat": 4,
 "nbformat_minor": 4
}
