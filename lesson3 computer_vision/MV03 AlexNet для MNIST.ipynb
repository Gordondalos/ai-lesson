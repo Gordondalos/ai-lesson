{
 "cells": [
  {
   "cell_type": "markdown",
   "metadata": {},
   "source": [
    "# AlexNet для MNIST\n",
    "Построим нейронную сеть AlexNet для набора данных MNIST, обучим нейросеть и найдем точность ее предсказания.\n",
    "\n",
    "![AlexNet](AlexNet.png)"
   ]
  },
  {
   "cell_type": "markdown",
   "metadata": {},
   "source": [
    "### Подключение библиотек"
   ]
  },
  {
   "cell_type": "code",
   "execution_count": 1,
   "metadata": {},
   "outputs": [
    {
     "name": "stderr",
     "output_type": "stream",
     "text": [
      "Using TensorFlow backend.\n"
     ]
    }
   ],
   "source": [
    "import numpy as np\n",
    "import keras as K\n",
    "from sklearn.metrics import classification_report"
   ]
  },
  {
   "cell_type": "markdown",
   "metadata": {},
   "source": [
    "### Загрузка набора MNIST"
   ]
  },
  {
   "cell_type": "code",
   "execution_count": 2,
   "metadata": {},
   "outputs": [],
   "source": [
    "(X_train, y_train), (X_test, y_test) = K.datasets.mnist.load_data()"
   ]
  },
  {
   "cell_type": "markdown",
   "metadata": {},
   "source": [
    "### AlexNet: модель нейронной сети\n",
    "Свертка 96@11x11 -> Подвыборка 2x2 -> Свертка 256@5x5 -> Подвыборка 2x2 -> Свертка 384@3x3 -> Свертка 384@3x3 -> Свертка 256@3x3 -> Подвыборка 2x2 -> Полносвязный слой 4096 -> Полносвязный слой 4096 -> Выходной слой 10"
   ]
  },
  {
   "cell_type": "code",
   "execution_count": 6,
   "metadata": {},
   "outputs": [],
   "source": [
    "model = K.Sequential()\n",
    "model.add(K.layers.Conv2D(filters=96, kernel_size=(11,11), activation=\"relu\", input_shape=(28, 28, 1)))\n",
    "model.add(K.layers.MaxPooling2D())\n",
    "model.add(K.layers.Conv2D(filters=256, kernel_size=(5,5), padding=\"same\", activation=\"relu\"))\n",
    "model.add(K.layers.MaxPooling2D())\n",
    "model.add(K.layers.Conv2D(filters=384, kernel_size=(3,3), padding=\"same\", activation=\"relu\"))\n",
    "model.add(K.layers.Conv2D(filters=384, kernel_size=(3,3), padding=\"same\", activation=\"relu\"))\n",
    "model.add(K.layers.Conv2D(filters=256, kernel_size=(3,3), padding=\"same\", activation=\"relu\"))\n",
    "model.add(K.layers.MaxPooling2D())\n",
    "model.add(K.layers.Flatten())\n",
    "model.add(K.layers.Dense(units=4096, activation=\"relu\"))\n",
    "model.add(K.layers.Dense(units=4096, activation=\"relu\"))\n",
    "model.add(K.layers.Dense(units=10, activation=\"softmax\"))\n",
    "model.compile(optimizer=\"SGD\", loss=K.losses.categorical_crossentropy)"
   ]
  },
  {
   "cell_type": "markdown",
   "metadata": {},
   "source": [
    "### Обучение нейросети"
   ]
  },
  {
   "cell_type": "code",
   "execution_count": 7,
   "metadata": {},
   "outputs": [
    {
     "name": "stdout",
     "output_type": "stream",
     "text": [
      "Epoch 1/50\n",
      "60000/60000 [==============================] - 479s 8ms/step - loss: 3.3139\n",
      "Epoch 2/50\n",
      "60000/60000 [==============================] - 474s 8ms/step - loss: 2.2586\n",
      "Epoch 3/50\n",
      "60000/60000 [==============================] - 476s 8ms/step - loss: 2.1535\n",
      "Epoch 4/50\n",
      "60000/60000 [==============================] - 478s 8ms/step - loss: 1.6999\n",
      "Epoch 5/50\n",
      "60000/60000 [==============================] - 478s 8ms/step - loss: 1.5440\n",
      "Epoch 6/50\n",
      "60000/60000 [==============================] - 476s 8ms/step - loss: 0.7285\n",
      "Epoch 7/50\n",
      "60000/60000 [==============================] - 477s 8ms/step - loss: 0.6766\n",
      "Epoch 8/50\n",
      "60000/60000 [==============================] - 477s 8ms/step - loss: 0.3010\n",
      "Epoch 9/50\n",
      "60000/60000 [==============================] - 474s 8ms/step - loss: 0.2599\n",
      "Epoch 10/50\n",
      "60000/60000 [==============================] - 476s 8ms/step - loss: 0.3183\n",
      "Epoch 11/50\n",
      "60000/60000 [==============================] - 477s 8ms/step - loss: 0.1633\n",
      "Epoch 12/50\n",
      "60000/60000 [==============================] - 478s 8ms/step - loss: 0.1428\n",
      "Epoch 13/50\n",
      "60000/60000 [==============================] - 479s 8ms/step - loss: 0.1816\n",
      "Epoch 14/50\n",
      "60000/60000 [==============================] - 477s 8ms/step - loss: 0.1230\n",
      "Epoch 15/50\n",
      "60000/60000 [==============================] - 476s 8ms/step - loss: 0.1120\n",
      "Epoch 16/50\n",
      "60000/60000 [==============================] - 477s 8ms/step - loss: 0.2445\n",
      "Epoch 17/50\n",
      "60000/60000 [==============================] - 475s 8ms/step - loss: 0.2049\n",
      "Epoch 18/50\n",
      "60000/60000 [==============================] - 476s 8ms/step - loss: 0.1040\n",
      "Epoch 19/50\n",
      "60000/60000 [==============================] - 475s 8ms/step - loss: 0.0932\n",
      "Epoch 20/50\n",
      "60000/60000 [==============================] - 477s 8ms/step - loss: 0.0864\n",
      "Epoch 21/50\n",
      "60000/60000 [==============================] - 476s 8ms/step - loss: 0.0807\n",
      "Epoch 22/50\n",
      "60000/60000 [==============================] - 478s 8ms/step - loss: 0.0766\n",
      "Epoch 23/50\n",
      "60000/60000 [==============================] - 478s 8ms/step - loss: 0.0757\n",
      "Epoch 24/50\n",
      "60000/60000 [==============================] - 477s 8ms/step - loss: 0.0720\n",
      "Epoch 25/50\n",
      "60000/60000 [==============================] - 483s 8ms/step - loss: 0.0690\n",
      "Epoch 26/50\n",
      "60000/60000 [==============================] - 480s 8ms/step - loss: 0.0642\n",
      "Epoch 27/50\n",
      "60000/60000 [==============================] - 477s 8ms/step - loss: 0.0611\n",
      "Epoch 28/50\n",
      "60000/60000 [==============================] - 477s 8ms/step - loss: 0.0600\n",
      "Epoch 29/50\n",
      "60000/60000 [==============================] - 478s 8ms/step - loss: 0.0595\n",
      "Epoch 30/50\n",
      "60000/60000 [==============================] - 475s 8ms/step - loss: 0.0544\n",
      "Epoch 31/50\n",
      "60000/60000 [==============================] - 476s 8ms/step - loss: 0.0536\n",
      "Epoch 32/50\n",
      "60000/60000 [==============================] - 476s 8ms/step - loss: 1.0700\n",
      "Epoch 33/50\n",
      "60000/60000 [==============================] - 476s 8ms/step - loss: 0.2174\n",
      "Epoch 34/50\n",
      "60000/60000 [==============================] - 475s 8ms/step - loss: 0.1118\n",
      "Epoch 35/50\n",
      "60000/60000 [==============================] - 480s 8ms/step - loss: 0.0915\n",
      "Epoch 36/50\n",
      "60000/60000 [==============================] - 478s 8ms/step - loss: 0.0794\n",
      "Epoch 37/50\n",
      "60000/60000 [==============================] - 474s 8ms/step - loss: 0.0722\n",
      "Epoch 38/50\n",
      "60000/60000 [==============================] - 476s 8ms/step - loss: 0.0663\n",
      "Epoch 39/50\n",
      "60000/60000 [==============================] - 477s 8ms/step - loss: 0.0620\n",
      "Epoch 40/50\n",
      "60000/60000 [==============================] - 476s 8ms/step - loss: 0.0578\n",
      "Epoch 41/50\n",
      "60000/60000 [==============================] - 476s 8ms/step - loss: 0.0539\n",
      "Epoch 42/50\n",
      "60000/60000 [==============================] - 478s 8ms/step - loss: 0.0522\n",
      "Epoch 43/50\n",
      "60000/60000 [==============================] - 479s 8ms/step - loss: 0.0493\n",
      "Epoch 44/50\n",
      "60000/60000 [==============================] - 477s 8ms/step - loss: 0.0471\n",
      "Epoch 45/50\n",
      "60000/60000 [==============================] - 476s 8ms/step - loss: 0.0450\n",
      "Epoch 46/50\n",
      "60000/60000 [==============================] - 477s 8ms/step - loss: 0.0432\n",
      "Epoch 47/50\n",
      "60000/60000 [==============================] - 475s 8ms/step - loss: 0.0413\n",
      "Epoch 48/50\n",
      "60000/60000 [==============================] - 476s 8ms/step - loss: 0.0405\n",
      "Epoch 49/50\n",
      "60000/60000 [==============================] - 476s 8ms/step - loss: 0.0397\n",
      "Epoch 50/50\n",
      "60000/60000 [==============================] - 478s 8ms/step - loss: 0.0369\n"
     ]
    },
    {
     "data": {
      "text/plain": [
       "<keras.callbacks.callbacks.History at 0x2ecc6a67220>"
      ]
     },
     "execution_count": 7,
     "metadata": {},
     "output_type": "execute_result"
    }
   ],
   "source": [
    "model.fit(np.expand_dims(X_train, -1), K.utils.to_categorical(y_train, 10), batch_size=5000, epochs=50)"
   ]
  },
  {
   "cell_type": "markdown",
   "metadata": {},
   "source": [
    "### Предсказание значений и оценка"
   ]
  },
  {
   "cell_type": "code",
   "execution_count": 8,
   "metadata": {},
   "outputs": [
    {
     "name": "stdout",
     "output_type": "stream",
     "text": [
      "              precision    recall  f1-score   support\n",
      "\n",
      "           0     0.9898    0.9828    0.9863       987\n",
      "           1     0.9938    0.9886    0.9912      1141\n",
      "           2     0.9864    0.9864    0.9864      1032\n",
      "           3     0.9822    0.9871    0.9846      1005\n",
      "           4     0.9939    0.9839    0.9889       992\n",
      "           5     0.9843    0.9832    0.9838       893\n",
      "           6     0.9823    0.9905    0.9864       950\n",
      "           7     0.9835    0.9787    0.9811      1033\n",
      "           8     0.9805    0.9815    0.9810       973\n",
      "           9     0.9752    0.9899    0.9825       994\n",
      "\n",
      "    accuracy                         0.9853     10000\n",
      "   macro avg     0.9852    0.9853    0.9852     10000\n",
      "weighted avg     0.9853    0.9853    0.9853     10000\n",
      "\n"
     ]
    }
   ],
   "source": [
    "result = np.argmax(model.predict(np.expand_dims(X_test, -1)), axis=1)\n",
    "print (classification_report(result, y_test, digits=4))"
   ]
  }
 ],
 "metadata": {
  "kernelspec": {
   "display_name": "Python 3",
   "language": "python",
   "name": "python3"
  },
  "language_info": {
   "codemirror_mode": {
    "name": "ipython",
    "version": 3
   },
   "file_extension": ".py",
   "mimetype": "text/x-python",
   "name": "python",
   "nbconvert_exporter": "python",
   "pygments_lexer": "ipython3",
   "version": "3.8.3"
  }
 },
 "nbformat": 4,
 "nbformat_minor": 4
}
