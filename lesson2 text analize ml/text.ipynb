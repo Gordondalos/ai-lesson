{
 "cells": [
  {
   "cell_type": "code",
   "execution_count": 4,
   "outputs": [],
   "source": [
    "import tensorflow as tf\n",
    "import numpy as np\n",
    "import matplotlib.pyplot as plt\n",
    "\n",
    "from keras.models import Sequential\n",
    "from keras.layers import Dense, Dropout, Flatten\n",
    "# from tensorflow.keras import  utils # можно ко\n",
    "from keras import  utils\n",
    "from keras.datasets import imdb"
   ],
   "metadata": {
    "collapsed": false,
    "pycharm": {
     "name": "#%%\n"
    }
   }
  },
  {
   "cell_type": "code",
   "execution_count": 19,
   "outputs": [],
   "source": [
    "(x_train, y_train), (x_test, y_test) = imdb.load_data(num_words=10000) # это ограничение на 10000 слов которые чаще всего"
   ],
   "metadata": {
    "collapsed": false,
    "pycharm": {
     "name": "#%%\n"
    }
   }
  },
  {
   "cell_type": "code",
   "execution_count": 20,
   "outputs": [
    {
     "data": {
      "text/plain": "[1,\n 14,\n 20,\n 47,\n 111,\n 439,\n 3445,\n 19,\n 12,\n 15,\n 166,\n 12,\n 216,\n 125,\n 40,\n 6,\n 364,\n 352,\n 707,\n 1187,\n 39,\n 294,\n 11,\n 22,\n 396,\n 13,\n 28,\n 8,\n 202,\n 12,\n 1109,\n 23,\n 94,\n 2,\n 151,\n 111,\n 211,\n 469,\n 4,\n 20,\n 13,\n 258,\n 546,\n 1104,\n 7273,\n 12,\n 16,\n 38,\n 78,\n 33,\n 211,\n 15,\n 12,\n 16,\n 2849,\n 63,\n 93,\n 12,\n 6,\n 253,\n 106,\n 10,\n 10,\n 48,\n 335,\n 267,\n 18,\n 6,\n 364,\n 1242,\n 1179,\n 20,\n 19,\n 6,\n 1009,\n 7,\n 1987,\n 189,\n 5,\n 6,\n 8419,\n 7,\n 2723,\n 2,\n 95,\n 1719,\n 6,\n 6035,\n 7,\n 3912,\n 7144,\n 49,\n 369,\n 120,\n 5,\n 28,\n 49,\n 253,\n 10,\n 10,\n 13,\n 1041,\n 19,\n 85,\n 795,\n 15,\n 4,\n 481,\n 9,\n 55,\n 78,\n 807,\n 9,\n 375,\n 8,\n 1167,\n 8,\n 794,\n 76,\n 7,\n 4,\n 58,\n 5,\n 4,\n 816,\n 9,\n 243,\n 7,\n 43,\n 50]"
     },
     "execution_count": 20,
     "metadata": {},
     "output_type": "execute_result"
    }
   ],
   "source": [
    "x_train[9] # тут видно что тексты уже токенезировали"
   ],
   "metadata": {
    "collapsed": false,
    "pycharm": {
     "name": "#%%\n"
    }
   }
  },
  {
   "cell_type": "code",
   "execution_count": 21,
   "outputs": [
    {
     "data": {
      "text/plain": "{'fawn': 34701,\n 'tsukino': 52006,\n 'nunnery': 52007,\n 'sonja': 16816,\n 'vani': 63951,\n 'woods': 1408,\n 'spiders': 16115,\n 'hanging': 2345,\n 'woody': 2289,\n 'trawling': 52008,\n \"hold's\": 52009,\n 'comically': 11307,\n 'localized': 40830,\n 'disobeying': 30568,\n \"'royale\": 52010,\n \"harpo's\": 40831,\n 'canet': 52011,\n 'aileen': 19313,\n 'acurately': 52012,\n \"diplomat's\": 52013,\n 'rickman': 25242,\n 'arranged': 6746,\n 'rumbustious': 52014,\n 'familiarness': 52015,\n \"spider'\": 52016,\n 'hahahah': 68804,\n \"wood'\": 52017,\n 'transvestism': 40833,\n \"hangin'\": 34702,\n 'bringing': 2338,\n 'seamier': 40834,\n 'wooded': 34703,\n 'bravora': 52018,\n 'grueling': 16817,\n 'wooden': 1636,\n 'wednesday': 16818,\n \"'prix\": 52019,\n 'altagracia': 34704,\n 'circuitry': 52020,\n 'crotch': 11585,\n 'busybody': 57766,\n \"tart'n'tangy\": 52021,\n 'burgade': 14129,\n 'thrace': 52023,\n \"tom's\": 11038,\n 'snuggles': 52025,\n 'francesco': 29114,\n 'complainers': 52027,\n 'templarios': 52125,\n '272': 40835,\n '273': 52028,\n 'zaniacs': 52130,\n '275': 34706,\n 'consenting': 27631,\n 'snuggled': 40836,\n 'inanimate': 15492,\n 'uality': 52030,\n 'bronte': 11926,\n 'errors': 4010,\n 'dialogs': 3230,\n \"yomada's\": 52031,\n \"madman's\": 34707,\n 'dialoge': 30585,\n 'usenet': 52033,\n 'videodrome': 40837,\n \"kid'\": 26338,\n 'pawed': 52034,\n \"'girlfriend'\": 30569,\n \"'pleasure\": 52035,\n \"'reloaded'\": 52036,\n \"kazakos'\": 40839,\n 'rocque': 52037,\n 'mailings': 52038,\n 'brainwashed': 11927,\n 'mcanally': 16819,\n \"tom''\": 52039,\n 'kurupt': 25243,\n 'affiliated': 21905,\n 'babaganoosh': 52040,\n \"noe's\": 40840,\n 'quart': 40841,\n 'kids': 359,\n 'uplifting': 5034,\n 'controversy': 7093,\n 'kida': 21906,\n 'kidd': 23379,\n \"error'\": 52041,\n 'neurologist': 52042,\n 'spotty': 18510,\n 'cobblers': 30570,\n 'projection': 9878,\n 'fastforwarding': 40842,\n 'sters': 52043,\n \"eggar's\": 52044,\n 'etherything': 52045,\n 'gateshead': 40843,\n 'airball': 34708,\n 'unsinkable': 25244,\n 'stern': 7180,\n \"cervi's\": 52046,\n 'dnd': 40844,\n 'dna': 11586,\n 'insecurity': 20598,\n \"'reboot'\": 52047,\n 'trelkovsky': 11037,\n 'jaekel': 52048,\n 'sidebars': 52049,\n \"sforza's\": 52050,\n 'distortions': 17633,\n 'mutinies': 52051,\n 'sermons': 30602,\n '7ft': 40846,\n 'boobage': 52052,\n \"o'bannon's\": 52053,\n 'populations': 23380,\n 'chulak': 52054,\n 'mesmerize': 27633,\n 'quinnell': 52055,\n 'yahoo': 10307,\n 'meteorologist': 52057,\n 'beswick': 42577,\n 'boorman': 15493,\n 'voicework': 40847,\n \"ster'\": 52058,\n 'blustering': 22922,\n 'hj': 52059,\n 'intake': 27634,\n 'morally': 5621,\n 'jumbling': 40849,\n 'bowersock': 52060,\n \"'porky's'\": 52061,\n 'gershon': 16821,\n 'ludicrosity': 40850,\n 'coprophilia': 52062,\n 'expressively': 40851,\n \"india's\": 19500,\n \"post's\": 34710,\n 'wana': 52063,\n 'wang': 5283,\n 'wand': 30571,\n 'wane': 25245,\n 'edgeways': 52321,\n 'titanium': 34711,\n 'pinta': 40852,\n 'want': 178,\n 'pinto': 30572,\n 'whoopdedoodles': 52065,\n 'tchaikovsky': 21908,\n 'travel': 2103,\n \"'victory'\": 52066,\n 'copious': 11928,\n 'gouge': 22433,\n \"chapters'\": 52067,\n 'barbra': 6702,\n 'uselessness': 30573,\n \"wan'\": 52068,\n 'assimilated': 27635,\n 'petiot': 16116,\n 'most\\x85and': 52069,\n 'dinosaurs': 3930,\n 'wrong': 352,\n 'seda': 52070,\n 'stollen': 52071,\n 'sentencing': 34712,\n 'ouroboros': 40853,\n 'assimilates': 40854,\n 'colorfully': 40855,\n 'glenne': 27636,\n 'dongen': 52072,\n 'subplots': 4760,\n 'kiloton': 52073,\n 'chandon': 23381,\n \"effect'\": 34713,\n 'snugly': 27637,\n 'kuei': 40856,\n 'welcomed': 9092,\n 'dishonor': 30071,\n 'concurrence': 52075,\n 'stoicism': 23382,\n \"guys'\": 14896,\n \"beroemd'\": 52077,\n 'butcher': 6703,\n \"melfi's\": 40857,\n 'aargh': 30623,\n 'playhouse': 20599,\n 'wickedly': 11308,\n 'fit': 1180,\n 'labratory': 52078,\n 'lifeline': 40859,\n 'screaming': 1927,\n 'fix': 4287,\n 'cineliterate': 52079,\n 'fic': 52080,\n 'fia': 52081,\n 'fig': 34714,\n 'fmvs': 52082,\n 'fie': 52083,\n 'reentered': 52084,\n 'fin': 30574,\n 'doctresses': 52085,\n 'fil': 52086,\n 'zucker': 12606,\n 'ached': 31931,\n 'counsil': 52088,\n 'paterfamilias': 52089,\n 'songwriter': 13885,\n 'shivam': 34715,\n 'hurting': 9654,\n 'effects': 299,\n 'slauther': 52090,\n \"'flame'\": 52091,\n 'sommerset': 52092,\n 'interwhined': 52093,\n 'whacking': 27638,\n 'bartok': 52094,\n 'barton': 8775,\n 'frewer': 21909,\n \"fi'\": 52095,\n 'ingrid': 6192,\n 'stribor': 30575,\n 'approporiately': 52096,\n 'wobblyhand': 52097,\n 'tantalisingly': 52098,\n 'ankylosaurus': 52099,\n 'parasites': 17634,\n 'childen': 52100,\n \"jenkins'\": 52101,\n 'metafiction': 52102,\n 'golem': 17635,\n 'indiscretion': 40860,\n \"reeves'\": 23383,\n \"inamorata's\": 57781,\n 'brittannica': 52104,\n 'adapt': 7916,\n \"russo's\": 30576,\n 'guitarists': 48246,\n 'abbott': 10553,\n 'abbots': 40861,\n 'lanisha': 17649,\n 'magickal': 40863,\n 'mattter': 52105,\n \"'willy\": 52106,\n 'pumpkins': 34716,\n 'stuntpeople': 52107,\n 'estimate': 30577,\n 'ugghhh': 40864,\n 'gameplay': 11309,\n \"wern't\": 52108,\n \"n'sync\": 40865,\n 'sickeningly': 16117,\n 'chiara': 40866,\n 'disturbed': 4011,\n 'portmanteau': 40867,\n 'ineffectively': 52109,\n \"duchonvey's\": 82143,\n \"nasty'\": 37519,\n 'purpose': 1285,\n 'lazers': 52112,\n 'lightened': 28105,\n 'kaliganj': 52113,\n 'popularism': 52114,\n \"damme's\": 18511,\n 'stylistics': 30578,\n 'mindgaming': 52115,\n 'spoilerish': 46449,\n \"'corny'\": 52117,\n 'boerner': 34718,\n 'olds': 6792,\n 'bakelite': 52118,\n 'renovated': 27639,\n 'forrester': 27640,\n \"lumiere's\": 52119,\n 'gaskets': 52024,\n 'needed': 884,\n 'smight': 34719,\n 'master': 1297,\n \"edie's\": 25905,\n 'seeber': 40868,\n 'hiya': 52120,\n 'fuzziness': 52121,\n 'genesis': 14897,\n 'rewards': 12607,\n 'enthrall': 30579,\n \"'about\": 40869,\n \"recollection's\": 52122,\n 'mutilated': 11039,\n 'fatherlands': 52123,\n \"fischer's\": 52124,\n 'positively': 5399,\n '270': 34705,\n 'ahmed': 34720,\n 'zatoichi': 9836,\n 'bannister': 13886,\n 'anniversaries': 52127,\n \"helm's\": 30580,\n \"'work'\": 52128,\n 'exclaimed': 34721,\n \"'unfunny'\": 52129,\n '274': 52029,\n 'feeling': 544,\n \"wanda's\": 52131,\n 'dolan': 33266,\n '278': 52133,\n 'peacoat': 52134,\n 'brawny': 40870,\n 'mishra': 40871,\n 'worlders': 40872,\n 'protags': 52135,\n 'skullcap': 52136,\n 'dastagir': 57596,\n 'affairs': 5622,\n 'wholesome': 7799,\n 'hymen': 52137,\n 'paramedics': 25246,\n 'unpersons': 52138,\n 'heavyarms': 52139,\n 'affaire': 52140,\n 'coulisses': 52141,\n 'hymer': 40873,\n 'kremlin': 52142,\n 'shipments': 30581,\n 'pixilated': 52143,\n \"'00s\": 30582,\n 'diminishing': 18512,\n 'cinematic': 1357,\n 'resonates': 14898,\n 'simplify': 40874,\n \"nature'\": 40875,\n 'temptresses': 40876,\n 'reverence': 16822,\n 'resonated': 19502,\n 'dailey': 34722,\n '2\\x85': 52144,\n 'treize': 27641,\n 'majo': 52145,\n 'kiya': 21910,\n 'woolnough': 52146,\n 'thanatos': 39797,\n 'sandoval': 35731,\n 'dorama': 40879,\n \"o'shaughnessy\": 52147,\n 'tech': 4988,\n 'fugitives': 32018,\n 'teck': 30583,\n \"'e'\": 76125,\n 'doesn’t': 40881,\n 'purged': 52149,\n 'saying': 657,\n \"martians'\": 41095,\n 'norliss': 23418,\n 'dickey': 27642,\n 'dicker': 52152,\n \"'sependipity\": 52153,\n 'padded': 8422,\n 'ordell': 57792,\n \"sturges'\": 40882,\n 'independentcritics': 52154,\n 'tempted': 5745,\n \"atkinson's\": 34724,\n 'hounded': 25247,\n 'apace': 52155,\n 'clicked': 15494,\n \"'humor'\": 30584,\n \"martino's\": 17177,\n \"'supporting\": 52156,\n 'warmongering': 52032,\n \"zemeckis's\": 34725,\n 'lube': 21911,\n 'shocky': 52157,\n 'plate': 7476,\n 'plata': 40883,\n 'sturgess': 40884,\n \"nerds'\": 40885,\n 'plato': 20600,\n 'plath': 34726,\n 'platt': 40886,\n 'mcnab': 52159,\n 'clumsiness': 27643,\n 'altogether': 3899,\n 'massacring': 42584,\n 'bicenntinial': 52160,\n 'skaal': 40887,\n 'droning': 14360,\n 'lds': 8776,\n 'jaguar': 21912,\n \"cale's\": 34727,\n 'nicely': 1777,\n 'mummy': 4588,\n \"lot's\": 18513,\n 'patch': 10086,\n 'kerkhof': 50202,\n \"leader's\": 52161,\n \"'movie\": 27644,\n 'uncomfirmed': 52162,\n 'heirloom': 40888,\n 'wrangle': 47360,\n 'emotion\\x85': 52163,\n \"'stargate'\": 52164,\n 'pinoy': 40889,\n 'conchatta': 40890,\n 'broeke': 41128,\n 'advisedly': 40891,\n \"barker's\": 17636,\n 'descours': 52166,\n 'lots': 772,\n 'lotr': 9259,\n 'irs': 9879,\n 'lott': 52167,\n 'xvi': 40892,\n 'irk': 34728,\n 'irl': 52168,\n 'ira': 6887,\n 'belzer': 21913,\n 'irc': 52169,\n 'ire': 27645,\n 'requisites': 40893,\n 'discipline': 7693,\n 'lyoko': 52961,\n 'extend': 11310,\n 'nature': 873,\n \"'dickie'\": 52170,\n 'optimist': 40894,\n 'lapping': 30586,\n 'superficial': 3900,\n 'vestment': 52171,\n 'extent': 2823,\n 'tendons': 52172,\n \"heller's\": 52173,\n 'quagmires': 52174,\n 'miyako': 52175,\n 'moocow': 20601,\n \"coles'\": 52176,\n 'lookit': 40895,\n 'ravenously': 52177,\n 'levitating': 40896,\n 'perfunctorily': 52178,\n 'lookin': 30587,\n \"lot'\": 40898,\n 'lookie': 52179,\n 'fearlessly': 34870,\n 'libyan': 52181,\n 'fondles': 40899,\n 'gopher': 35714,\n 'wearying': 40901,\n \"nz's\": 52182,\n 'minuses': 27646,\n 'puposelessly': 52183,\n 'shandling': 52184,\n 'decapitates': 31268,\n 'humming': 11929,\n \"'nother\": 40902,\n 'smackdown': 21914,\n 'underdone': 30588,\n 'frf': 40903,\n 'triviality': 52185,\n 'fro': 25248,\n 'bothers': 8777,\n \"'kensington\": 52186,\n 'much': 73,\n 'muco': 34730,\n 'wiseguy': 22615,\n \"richie's\": 27648,\n 'tonino': 40904,\n 'unleavened': 52187,\n 'fry': 11587,\n \"'tv'\": 40905,\n 'toning': 40906,\n 'obese': 14361,\n 'sensationalized': 30589,\n 'spiv': 40907,\n 'spit': 6259,\n 'arkin': 7364,\n 'charleton': 21915,\n 'jeon': 16823,\n 'boardroom': 21916,\n 'doubts': 4989,\n 'spin': 3084,\n 'hepo': 53083,\n 'wildcat': 27649,\n 'venoms': 10584,\n 'misconstrues': 52191,\n 'mesmerising': 18514,\n 'misconstrued': 40908,\n 'rescinds': 52192,\n 'prostrate': 52193,\n 'majid': 40909,\n 'climbed': 16479,\n 'canoeing': 34731,\n 'majin': 52195,\n 'animie': 57804,\n 'sylke': 40910,\n 'conditioned': 14899,\n 'waddell': 40911,\n '3\\x85': 52196,\n 'hyperdrive': 41188,\n 'conditioner': 34732,\n 'bricklayer': 53153,\n 'hong': 2576,\n 'memoriam': 52198,\n 'inventively': 30592,\n \"levant's\": 25249,\n 'portobello': 20638,\n 'remand': 52200,\n 'mummified': 19504,\n 'honk': 27650,\n 'spews': 19505,\n 'visitations': 40912,\n 'mummifies': 52201,\n 'cavanaugh': 25250,\n 'zeon': 23385,\n \"jungle's\": 40913,\n 'viertel': 34733,\n 'frenchmen': 27651,\n 'torpedoes': 52202,\n 'schlessinger': 52203,\n 'torpedoed': 34734,\n 'blister': 69876,\n 'cinefest': 52204,\n 'furlough': 34735,\n 'mainsequence': 52205,\n 'mentors': 40914,\n 'academic': 9094,\n 'stillness': 20602,\n 'academia': 40915,\n 'lonelier': 52206,\n 'nibby': 52207,\n \"losers'\": 52208,\n 'cineastes': 40916,\n 'corporate': 4449,\n 'massaging': 40917,\n 'bellow': 30593,\n 'absurdities': 19506,\n 'expetations': 53241,\n 'nyfiken': 40918,\n 'mehras': 75638,\n 'lasse': 52209,\n 'visability': 52210,\n 'militarily': 33946,\n \"elder'\": 52211,\n 'gainsbourg': 19023,\n 'hah': 20603,\n 'hai': 13420,\n 'haj': 34736,\n 'hak': 25251,\n 'hal': 4311,\n 'ham': 4892,\n 'duffer': 53259,\n 'haa': 52213,\n 'had': 66,\n 'advancement': 11930,\n 'hag': 16825,\n \"hand'\": 25252,\n 'hay': 13421,\n 'mcnamara': 20604,\n \"mozart's\": 52214,\n 'duffel': 30731,\n 'haq': 30594,\n 'har': 13887,\n 'has': 44,\n 'hat': 2401,\n 'hav': 40919,\n 'haw': 30595,\n 'figtings': 52215,\n 'elders': 15495,\n 'underpanted': 52216,\n 'pninson': 52217,\n 'unequivocally': 27652,\n \"barbara's\": 23673,\n \"bello'\": 52219,\n 'indicative': 12997,\n 'yawnfest': 40920,\n 'hexploitation': 52220,\n \"loder's\": 52221,\n 'sleuthing': 27653,\n \"justin's\": 32622,\n \"'ball\": 52222,\n \"'summer\": 52223,\n \"'demons'\": 34935,\n \"mormon's\": 52225,\n \"laughton's\": 34737,\n 'debell': 52226,\n 'shipyard': 39724,\n 'unabashedly': 30597,\n 'disks': 40401,\n 'crowd': 2290,\n 'crowe': 10087,\n \"vancouver's\": 56434,\n 'mosques': 34738,\n 'crown': 6627,\n 'culpas': 52227,\n 'crows': 27654,\n 'surrell': 53344,\n 'flowless': 52229,\n 'sheirk': 52230,\n \"'three\": 40923,\n \"peterson'\": 52231,\n 'ooverall': 52232,\n 'perchance': 40924,\n 'bottom': 1321,\n 'chabert': 53363,\n 'sneha': 52233,\n 'inhuman': 13888,\n 'ichii': 52234,\n 'ursla': 52235,\n 'completly': 30598,\n 'moviedom': 40925,\n 'raddick': 52236,\n 'brundage': 51995,\n 'brigades': 40926,\n 'starring': 1181,\n \"'goal'\": 52237,\n 'caskets': 52238,\n 'willcock': 52239,\n \"threesome's\": 52240,\n \"mosque'\": 52241,\n \"cover's\": 52242,\n 'spaceships': 17637,\n 'anomalous': 40927,\n 'ptsd': 27655,\n 'shirdan': 52243,\n 'obscenity': 21962,\n 'lemmings': 30599,\n 'duccio': 30600,\n \"levene's\": 52244,\n \"'gorby'\": 52245,\n \"teenager's\": 25255,\n 'marshall': 5340,\n 'honeymoon': 9095,\n 'shoots': 3231,\n 'despised': 12258,\n 'okabasho': 52246,\n 'fabric': 8289,\n 'cannavale': 18515,\n 'raped': 3537,\n \"tutt's\": 52247,\n 'grasping': 17638,\n 'despises': 18516,\n \"thief's\": 40928,\n 'rapes': 8926,\n 'raper': 52248,\n \"eyre'\": 27656,\n 'walchek': 52249,\n \"elmo's\": 23386,\n 'perfumes': 40929,\n 'spurting': 21918,\n \"exposition'\\x85\": 52250,\n 'denoting': 52251,\n 'thesaurus': 34740,\n \"shoot'\": 40930,\n 'bonejack': 49759,\n 'simpsonian': 52253,\n 'hebetude': 30601,\n \"hallow's\": 34741,\n 'desperation\\x85': 52254,\n 'incinerator': 34742,\n 'congratulations': 10308,\n 'humbled': 52255,\n \"else's\": 5924,\n 'trelkovski': 40845,\n \"rape'\": 52256,\n \"'chapters'\": 59386,\n '1600s': 52257,\n 'martian': 7253,\n 'nicest': 25256,\n 'eyred': 52259,\n 'passenger': 9457,\n 'disgrace': 6041,\n 'moderne': 52260,\n 'barrymore': 5120,\n 'yankovich': 52261,\n 'moderns': 40931,\n 'studliest': 52262,\n 'bedsheet': 52263,\n 'decapitation': 14900,\n 'slurring': 52264,\n \"'nunsploitation'\": 52265,\n \"'character'\": 34743,\n 'cambodia': 9880,\n 'rebelious': 52266,\n 'pasadena': 27657,\n 'crowne': 40932,\n \"'bedchamber\": 52267,\n 'conjectural': 52268,\n 'appologize': 52269,\n 'halfassing': 52270,\n 'paycheque': 57816,\n 'palms': 20606,\n \"'islands\": 52271,\n 'hawked': 40933,\n 'palme': 21919,\n 'conservatively': 40934,\n 'larp': 64007,\n 'palma': 5558,\n 'smelling': 21920,\n 'aragorn': 12998,\n 'hawker': 52272,\n 'hawkes': 52273,\n 'explosions': 3975,\n 'loren': 8059,\n \"pyle's\": 52274,\n 'shootout': 6704,\n \"mike's\": 18517,\n \"driscoll's\": 52275,\n 'cogsworth': 40935,\n \"britian's\": 52276,\n 'childs': 34744,\n \"portrait's\": 52277,\n 'chain': 3626,\n 'whoever': 2497,\n 'puttered': 52278,\n 'childe': 52279,\n 'maywether': 52280,\n 'chair': 3036,\n \"rance's\": 52281,\n 'machu': 34745,\n 'ballet': 4517,\n 'grapples': 34746,\n 'summerize': 76152,\n 'freelance': 30603,\n \"andrea's\": 52283,\n '\\x91very': 52284,\n 'coolidge': 45879,\n 'mache': 18518,\n 'balled': 52285,\n 'grappled': 40937,\n 'macha': 18519,\n 'underlining': 21921,\n 'macho': 5623,\n 'oversight': 19507,\n 'machi': 25257,\n 'verbally': 11311,\n 'tenacious': 21922,\n 'windshields': 40938,\n 'paychecks': 18557,\n 'jerk': 3396,\n \"good'\": 11931,\n 'prancer': 34748,\n 'prances': 21923,\n 'olympus': 52286,\n 'lark': 21924,\n 'embark': 10785,\n 'gloomy': 7365,\n 'jehaan': 52287,\n 'turaqui': 52288,\n \"child'\": 20607,\n 'locked': 2894,\n 'pranced': 52289,\n 'exact': 2588,\n 'unattuned': 52290,\n 'minute': 783,\n 'skewed': 16118,\n 'hodgins': 40940,\n 'skewer': 34749,\n 'think\\x85': 52291,\n 'rosenstein': 38765,\n 'helmit': 52292,\n 'wrestlemanias': 34750,\n 'hindered': 16826,\n \"martha's\": 30604,\n 'cheree': 52293,\n \"pluckin'\": 52294,\n 'ogles': 40941,\n 'heavyweight': 11932,\n 'aada': 82190,\n 'chopping': 11312,\n 'strongboy': 61534,\n 'hegemonic': 41342,\n 'adorns': 40942,\n 'xxth': 41346,\n 'nobuhiro': 34751,\n 'capitães': 52298,\n 'kavogianni': 52299,\n 'antwerp': 13422,\n 'celebrated': 6538,\n 'roarke': 52300,\n 'baggins': 40943,\n 'cheeseburgers': 31270,\n 'matras': 52301,\n \"nineties'\": 52302,\n \"'craig'\": 52303,\n 'celebrates': 12999,\n 'unintentionally': 3383,\n 'drafted': 14362,\n 'climby': 52304,\n '303': 52305,\n 'oldies': 18520,\n 'climbs': 9096,\n 'honour': 9655,\n 'plucking': 34752,\n '305': 30074,\n 'address': 5514,\n 'menjou': 40944,\n \"'freak'\": 42592,\n 'dwindling': 19508,\n 'benson': 9458,\n 'white’s': 52307,\n 'shamelessness': 40945,\n 'impacted': 21925,\n 'upatz': 52308,\n 'cusack': 3840,\n \"flavia's\": 37567,\n 'effette': 52309,\n 'influx': 34753,\n 'boooooooo': 52310,\n 'dimitrova': 52311,\n 'houseman': 13423,\n 'bigas': 25259,\n 'boylen': 52312,\n 'phillipenes': 52313,\n 'fakery': 40946,\n \"grandpa's\": 27658,\n 'darnell': 27659,\n 'undergone': 19509,\n 'handbags': 52315,\n 'perished': 21926,\n 'pooped': 37778,\n 'vigour': 27660,\n 'opposed': 3627,\n 'etude': 52316,\n \"caine's\": 11799,\n 'doozers': 52317,\n 'photojournals': 34754,\n 'perishes': 52318,\n 'constrains': 34755,\n 'migenes': 40948,\n 'consoled': 30605,\n 'alastair': 16827,\n 'wvs': 52319,\n 'ooooooh': 52320,\n 'approving': 34756,\n 'consoles': 40949,\n 'disparagement': 52064,\n 'futureistic': 52322,\n 'rebounding': 52323,\n \"'date\": 52324,\n 'gregoire': 52325,\n 'rutherford': 21927,\n 'americanised': 34757,\n 'novikov': 82196,\n 'following': 1042,\n 'munroe': 34758,\n \"morita'\": 52326,\n 'christenssen': 52327,\n 'oatmeal': 23106,\n 'fossey': 25260,\n 'livered': 40950,\n 'listens': 13000,\n \"'marci\": 76164,\n \"otis's\": 52330,\n 'thanking': 23387,\n 'maude': 16019,\n 'extensions': 34759,\n 'ameteurish': 52332,\n \"commender's\": 52333,\n 'agricultural': 27661,\n 'convincingly': 4518,\n 'fueled': 17639,\n 'mahattan': 54014,\n \"paris's\": 40952,\n 'vulkan': 52336,\n 'stapes': 52337,\n 'odysessy': 52338,\n 'harmon': 12259,\n 'surfing': 4252,\n 'halloran': 23494,\n 'unbelieveably': 49580,\n \"'offed'\": 52339,\n 'quadrant': 30607,\n 'inhabiting': 19510,\n 'nebbish': 34760,\n 'forebears': 40953,\n 'skirmish': 34761,\n 'ocassionally': 52340,\n \"'resist\": 52341,\n 'impactful': 21928,\n 'spicier': 52342,\n 'touristy': 40954,\n \"'football'\": 52343,\n 'webpage': 40955,\n 'exurbia': 52345,\n 'jucier': 52346,\n 'professors': 14901,\n 'structuring': 34762,\n 'jig': 30608,\n 'overlord': 40956,\n 'disconnect': 25261,\n 'sniffle': 82201,\n 'slimeball': 40957,\n 'jia': 40958,\n 'milked': 16828,\n 'banjoes': 40959,\n 'jim': 1237,\n 'workforces': 52348,\n 'jip': 52349,\n 'rotweiller': 52350,\n 'mundaneness': 34763,\n \"'ninja'\": 52351,\n \"dead'\": 11040,\n \"cipriani's\": 40960,\n 'modestly': 20608,\n \"professor'\": 52352,\n 'shacked': 40961,\n 'bashful': 34764,\n 'sorter': 23388,\n 'overpowering': 16120,\n 'workmanlike': 18521,\n 'henpecked': 27662,\n 'sorted': 18522,\n \"jōb's\": 52354,\n \"'always\": 52355,\n \"'baptists\": 34765,\n 'dreamcatchers': 52356,\n \"'silence'\": 52357,\n 'hickory': 21929,\n 'fun\\x97yet': 52358,\n 'breakumentary': 52359,\n 'didn': 15496,\n 'didi': 52360,\n 'pealing': 52361,\n 'dispite': 40962,\n \"italy's\": 25262,\n 'instability': 21930,\n 'quarter': 6539,\n 'quartet': 12608,\n 'padmé': 52362,\n \"'bleedmedry\": 52363,\n 'pahalniuk': 52364,\n 'honduras': 52365,\n 'bursting': 10786,\n \"pablo's\": 41465,\n 'irremediably': 52367,\n 'presages': 40963,\n 'bowlegged': 57832,\n 'dalip': 65183,\n 'entering': 6260,\n 'newsradio': 76172,\n 'presaged': 54150,\n \"giallo's\": 27663,\n 'bouyant': 40964,\n 'amerterish': 52368,\n 'rajni': 18523,\n 'leeves': 30610,\n 'macauley': 34767,\n 'seriously': 612,\n 'sugercoma': 52369,\n 'grimstead': 52370,\n \"'fairy'\": 52371,\n 'zenda': 30611,\n \"'twins'\": 52372,\n 'realisation': 17640,\n 'highsmith': 27664,\n 'raunchy': 7817,\n 'incentives': 40965,\n 'flatson': 52374,\n 'snooker': 35097,\n 'crazies': 16829,\n 'crazier': 14902,\n 'grandma': 7094,\n 'napunsaktha': 52375,\n 'workmanship': 30612,\n 'reisner': 52376,\n \"sanford's\": 61306,\n '\\x91doña': 52377,\n 'modest': 6108,\n \"everything's\": 19153,\n 'hamer': 40966,\n \"couldn't'\": 52379,\n 'quibble': 13001,\n 'socking': 52380,\n 'tingler': 21931,\n 'gutman': 52381,\n 'lachlan': 40967,\n 'tableaus': 52382,\n 'headbanger': 52383,\n 'spoken': 2847,\n 'cerebrally': 34768,\n \"'road\": 23490,\n 'tableaux': 21932,\n \"proust's\": 40968,\n 'periodical': 40969,\n \"shoveller's\": 52385,\n 'tamara': 25263,\n 'affords': 17641,\n 'concert': 3249,\n \"yara's\": 87955,\n 'someome': 52386,\n 'lingering': 8424,\n \"abraham's\": 41511,\n 'beesley': 34769,\n 'cherbourg': 34770,\n 'kagan': 28624,\n 'snatch': 9097,\n \"miyazaki's\": 9260,\n 'absorbs': 25264,\n \"koltai's\": 40970,\n 'tingled': 64027,\n 'crossroads': 19511,\n 'rehab': 16121,\n 'falworth': 52389,\n 'sequals': 52390,\n ...}"
     },
     "execution_count": 21,
     "metadata": {},
     "output_type": "execute_result"
    }
   ],
   "source": [
    "# это словарь индексов в котором можно найти слово которое чаще встречается\n",
    "word_index = imdb.get_word_index()\n",
    "word_index"
   ],
   "metadata": {
    "collapsed": false,
    "pycharm": {
     "name": "#%%\n"
    }
   }
  },
  {
   "cell_type": "code",
   "execution_count": 22,
   "outputs": [],
   "source": [
    "# сделаем реверс словаря чтобы по индексу находить код\n",
    "\n",
    "reversed_word_index = dict([(value, key) for (key, value) in word_index.items()])"
   ],
   "metadata": {
    "collapsed": false,
    "pycharm": {
     "name": "#%%\n"
    }
   }
  },
  {
   "cell_type": "code",
   "execution_count": 23,
   "outputs": [
    {
     "data": {
      "text/plain": "{34701: 'fawn',\n 52006: 'tsukino',\n 52007: 'nunnery',\n 16816: 'sonja',\n 63951: 'vani',\n 1408: 'woods',\n 16115: 'spiders',\n 2345: 'hanging',\n 2289: 'woody',\n 52008: 'trawling',\n 52009: \"hold's\",\n 11307: 'comically',\n 40830: 'localized',\n 30568: 'disobeying',\n 52010: \"'royale\",\n 40831: \"harpo's\",\n 52011: 'canet',\n 19313: 'aileen',\n 52012: 'acurately',\n 52013: \"diplomat's\",\n 25242: 'rickman',\n 6746: 'arranged',\n 52014: 'rumbustious',\n 52015: 'familiarness',\n 52016: \"spider'\",\n 68804: 'hahahah',\n 52017: \"wood'\",\n 40833: 'transvestism',\n 34702: \"hangin'\",\n 2338: 'bringing',\n 40834: 'seamier',\n 34703: 'wooded',\n 52018: 'bravora',\n 16817: 'grueling',\n 1636: 'wooden',\n 16818: 'wednesday',\n 52019: \"'prix\",\n 34704: 'altagracia',\n 52020: 'circuitry',\n 11585: 'crotch',\n 57766: 'busybody',\n 52021: \"tart'n'tangy\",\n 14129: 'burgade',\n 52023: 'thrace',\n 11038: \"tom's\",\n 52025: 'snuggles',\n 29114: 'francesco',\n 52027: 'complainers',\n 52125: 'templarios',\n 40835: '272',\n 52028: '273',\n 52130: 'zaniacs',\n 34706: '275',\n 27631: 'consenting',\n 40836: 'snuggled',\n 15492: 'inanimate',\n 52030: 'uality',\n 11926: 'bronte',\n 4010: 'errors',\n 3230: 'dialogs',\n 52031: \"yomada's\",\n 34707: \"madman's\",\n 30585: 'dialoge',\n 52033: 'usenet',\n 40837: 'videodrome',\n 26338: \"kid'\",\n 52034: 'pawed',\n 30569: \"'girlfriend'\",\n 52035: \"'pleasure\",\n 52036: \"'reloaded'\",\n 40839: \"kazakos'\",\n 52037: 'rocque',\n 52038: 'mailings',\n 11927: 'brainwashed',\n 16819: 'mcanally',\n 52039: \"tom''\",\n 25243: 'kurupt',\n 21905: 'affiliated',\n 52040: 'babaganoosh',\n 40840: \"noe's\",\n 40841: 'quart',\n 359: 'kids',\n 5034: 'uplifting',\n 7093: 'controversy',\n 21906: 'kida',\n 23379: 'kidd',\n 52041: \"error'\",\n 52042: 'neurologist',\n 18510: 'spotty',\n 30570: 'cobblers',\n 9878: 'projection',\n 40842: 'fastforwarding',\n 52043: 'sters',\n 52044: \"eggar's\",\n 52045: 'etherything',\n 40843: 'gateshead',\n 34708: 'airball',\n 25244: 'unsinkable',\n 7180: 'stern',\n 52046: \"cervi's\",\n 40844: 'dnd',\n 11586: 'dna',\n 20598: 'insecurity',\n 52047: \"'reboot'\",\n 11037: 'trelkovsky',\n 52048: 'jaekel',\n 52049: 'sidebars',\n 52050: \"sforza's\",\n 17633: 'distortions',\n 52051: 'mutinies',\n 30602: 'sermons',\n 40846: '7ft',\n 52052: 'boobage',\n 52053: \"o'bannon's\",\n 23380: 'populations',\n 52054: 'chulak',\n 27633: 'mesmerize',\n 52055: 'quinnell',\n 10307: 'yahoo',\n 52057: 'meteorologist',\n 42577: 'beswick',\n 15493: 'boorman',\n 40847: 'voicework',\n 52058: \"ster'\",\n 22922: 'blustering',\n 52059: 'hj',\n 27634: 'intake',\n 5621: 'morally',\n 40849: 'jumbling',\n 52060: 'bowersock',\n 52061: \"'porky's'\",\n 16821: 'gershon',\n 40850: 'ludicrosity',\n 52062: 'coprophilia',\n 40851: 'expressively',\n 19500: \"india's\",\n 34710: \"post's\",\n 52063: 'wana',\n 5283: 'wang',\n 30571: 'wand',\n 25245: 'wane',\n 52321: 'edgeways',\n 34711: 'titanium',\n 40852: 'pinta',\n 178: 'want',\n 30572: 'pinto',\n 52065: 'whoopdedoodles',\n 21908: 'tchaikovsky',\n 2103: 'travel',\n 52066: \"'victory'\",\n 11928: 'copious',\n 22433: 'gouge',\n 52067: \"chapters'\",\n 6702: 'barbra',\n 30573: 'uselessness',\n 52068: \"wan'\",\n 27635: 'assimilated',\n 16116: 'petiot',\n 52069: 'most\\x85and',\n 3930: 'dinosaurs',\n 352: 'wrong',\n 52070: 'seda',\n 52071: 'stollen',\n 34712: 'sentencing',\n 40853: 'ouroboros',\n 40854: 'assimilates',\n 40855: 'colorfully',\n 27636: 'glenne',\n 52072: 'dongen',\n 4760: 'subplots',\n 52073: 'kiloton',\n 23381: 'chandon',\n 34713: \"effect'\",\n 27637: 'snugly',\n 40856: 'kuei',\n 9092: 'welcomed',\n 30071: 'dishonor',\n 52075: 'concurrence',\n 23382: 'stoicism',\n 14896: \"guys'\",\n 52077: \"beroemd'\",\n 6703: 'butcher',\n 40857: \"melfi's\",\n 30623: 'aargh',\n 20599: 'playhouse',\n 11308: 'wickedly',\n 1180: 'fit',\n 52078: 'labratory',\n 40859: 'lifeline',\n 1927: 'screaming',\n 4287: 'fix',\n 52079: 'cineliterate',\n 52080: 'fic',\n 52081: 'fia',\n 34714: 'fig',\n 52082: 'fmvs',\n 52083: 'fie',\n 52084: 'reentered',\n 30574: 'fin',\n 52085: 'doctresses',\n 52086: 'fil',\n 12606: 'zucker',\n 31931: 'ached',\n 52088: 'counsil',\n 52089: 'paterfamilias',\n 13885: 'songwriter',\n 34715: 'shivam',\n 9654: 'hurting',\n 299: 'effects',\n 52090: 'slauther',\n 52091: \"'flame'\",\n 52092: 'sommerset',\n 52093: 'interwhined',\n 27638: 'whacking',\n 52094: 'bartok',\n 8775: 'barton',\n 21909: 'frewer',\n 52095: \"fi'\",\n 6192: 'ingrid',\n 30575: 'stribor',\n 52096: 'approporiately',\n 52097: 'wobblyhand',\n 52098: 'tantalisingly',\n 52099: 'ankylosaurus',\n 17634: 'parasites',\n 52100: 'childen',\n 52101: \"jenkins'\",\n 52102: 'metafiction',\n 17635: 'golem',\n 40860: 'indiscretion',\n 23383: \"reeves'\",\n 57781: \"inamorata's\",\n 52104: 'brittannica',\n 7916: 'adapt',\n 30576: \"russo's\",\n 48246: 'guitarists',\n 10553: 'abbott',\n 40861: 'abbots',\n 17649: 'lanisha',\n 40863: 'magickal',\n 52105: 'mattter',\n 52106: \"'willy\",\n 34716: 'pumpkins',\n 52107: 'stuntpeople',\n 30577: 'estimate',\n 40864: 'ugghhh',\n 11309: 'gameplay',\n 52108: \"wern't\",\n 40865: \"n'sync\",\n 16117: 'sickeningly',\n 40866: 'chiara',\n 4011: 'disturbed',\n 40867: 'portmanteau',\n 52109: 'ineffectively',\n 82143: \"duchonvey's\",\n 37519: \"nasty'\",\n 1285: 'purpose',\n 52112: 'lazers',\n 28105: 'lightened',\n 52113: 'kaliganj',\n 52114: 'popularism',\n 18511: \"damme's\",\n 30578: 'stylistics',\n 52115: 'mindgaming',\n 46449: 'spoilerish',\n 52117: \"'corny'\",\n 34718: 'boerner',\n 6792: 'olds',\n 52118: 'bakelite',\n 27639: 'renovated',\n 27640: 'forrester',\n 52119: \"lumiere's\",\n 52024: 'gaskets',\n 884: 'needed',\n 34719: 'smight',\n 1297: 'master',\n 25905: \"edie's\",\n 40868: 'seeber',\n 52120: 'hiya',\n 52121: 'fuzziness',\n 14897: 'genesis',\n 12607: 'rewards',\n 30579: 'enthrall',\n 40869: \"'about\",\n 52122: \"recollection's\",\n 11039: 'mutilated',\n 52123: 'fatherlands',\n 52124: \"fischer's\",\n 5399: 'positively',\n 34705: '270',\n 34720: 'ahmed',\n 9836: 'zatoichi',\n 13886: 'bannister',\n 52127: 'anniversaries',\n 30580: \"helm's\",\n 52128: \"'work'\",\n 34721: 'exclaimed',\n 52129: \"'unfunny'\",\n 52029: '274',\n 544: 'feeling',\n 52131: \"wanda's\",\n 33266: 'dolan',\n 52133: '278',\n 52134: 'peacoat',\n 40870: 'brawny',\n 40871: 'mishra',\n 40872: 'worlders',\n 52135: 'protags',\n 52136: 'skullcap',\n 57596: 'dastagir',\n 5622: 'affairs',\n 7799: 'wholesome',\n 52137: 'hymen',\n 25246: 'paramedics',\n 52138: 'unpersons',\n 52139: 'heavyarms',\n 52140: 'affaire',\n 52141: 'coulisses',\n 40873: 'hymer',\n 52142: 'kremlin',\n 30581: 'shipments',\n 52143: 'pixilated',\n 30582: \"'00s\",\n 18512: 'diminishing',\n 1357: 'cinematic',\n 14898: 'resonates',\n 40874: 'simplify',\n 40875: \"nature'\",\n 40876: 'temptresses',\n 16822: 'reverence',\n 19502: 'resonated',\n 34722: 'dailey',\n 52144: '2\\x85',\n 27641: 'treize',\n 52145: 'majo',\n 21910: 'kiya',\n 52146: 'woolnough',\n 39797: 'thanatos',\n 35731: 'sandoval',\n 40879: 'dorama',\n 52147: \"o'shaughnessy\",\n 4988: 'tech',\n 32018: 'fugitives',\n 30583: 'teck',\n 76125: \"'e'\",\n 40881: 'doesn’t',\n 52149: 'purged',\n 657: 'saying',\n 41095: \"martians'\",\n 23418: 'norliss',\n 27642: 'dickey',\n 52152: 'dicker',\n 52153: \"'sependipity\",\n 8422: 'padded',\n 57792: 'ordell',\n 40882: \"sturges'\",\n 52154: 'independentcritics',\n 5745: 'tempted',\n 34724: \"atkinson's\",\n 25247: 'hounded',\n 52155: 'apace',\n 15494: 'clicked',\n 30584: \"'humor'\",\n 17177: \"martino's\",\n 52156: \"'supporting\",\n 52032: 'warmongering',\n 34725: \"zemeckis's\",\n 21911: 'lube',\n 52157: 'shocky',\n 7476: 'plate',\n 40883: 'plata',\n 40884: 'sturgess',\n 40885: \"nerds'\",\n 20600: 'plato',\n 34726: 'plath',\n 40886: 'platt',\n 52159: 'mcnab',\n 27643: 'clumsiness',\n 3899: 'altogether',\n 42584: 'massacring',\n 52160: 'bicenntinial',\n 40887: 'skaal',\n 14360: 'droning',\n 8776: 'lds',\n 21912: 'jaguar',\n 34727: \"cale's\",\n 1777: 'nicely',\n 4588: 'mummy',\n 18513: \"lot's\",\n 10086: 'patch',\n 50202: 'kerkhof',\n 52161: \"leader's\",\n 27644: \"'movie\",\n 52162: 'uncomfirmed',\n 40888: 'heirloom',\n 47360: 'wrangle',\n 52163: 'emotion\\x85',\n 52164: \"'stargate'\",\n 40889: 'pinoy',\n 40890: 'conchatta',\n 41128: 'broeke',\n 40891: 'advisedly',\n 17636: \"barker's\",\n 52166: 'descours',\n 772: 'lots',\n 9259: 'lotr',\n 9879: 'irs',\n 52167: 'lott',\n 40892: 'xvi',\n 34728: 'irk',\n 52168: 'irl',\n 6887: 'ira',\n 21913: 'belzer',\n 52169: 'irc',\n 27645: 'ire',\n 40893: 'requisites',\n 7693: 'discipline',\n 52961: 'lyoko',\n 11310: 'extend',\n 873: 'nature',\n 52170: \"'dickie'\",\n 40894: 'optimist',\n 30586: 'lapping',\n 3900: 'superficial',\n 52171: 'vestment',\n 2823: 'extent',\n 52172: 'tendons',\n 52173: \"heller's\",\n 52174: 'quagmires',\n 52175: 'miyako',\n 20601: 'moocow',\n 52176: \"coles'\",\n 40895: 'lookit',\n 52177: 'ravenously',\n 40896: 'levitating',\n 52178: 'perfunctorily',\n 30587: 'lookin',\n 40898: \"lot'\",\n 52179: 'lookie',\n 34870: 'fearlessly',\n 52181: 'libyan',\n 40899: 'fondles',\n 35714: 'gopher',\n 40901: 'wearying',\n 52182: \"nz's\",\n 27646: 'minuses',\n 52183: 'puposelessly',\n 52184: 'shandling',\n 31268: 'decapitates',\n 11929: 'humming',\n 40902: \"'nother\",\n 21914: 'smackdown',\n 30588: 'underdone',\n 40903: 'frf',\n 52185: 'triviality',\n 25248: 'fro',\n 8777: 'bothers',\n 52186: \"'kensington\",\n 73: 'much',\n 34730: 'muco',\n 22615: 'wiseguy',\n 27648: \"richie's\",\n 40904: 'tonino',\n 52187: 'unleavened',\n 11587: 'fry',\n 40905: \"'tv'\",\n 40906: 'toning',\n 14361: 'obese',\n 30589: 'sensationalized',\n 40907: 'spiv',\n 6259: 'spit',\n 7364: 'arkin',\n 21915: 'charleton',\n 16823: 'jeon',\n 21916: 'boardroom',\n 4989: 'doubts',\n 3084: 'spin',\n 53083: 'hepo',\n 27649: 'wildcat',\n 10584: 'venoms',\n 52191: 'misconstrues',\n 18514: 'mesmerising',\n 40908: 'misconstrued',\n 52192: 'rescinds',\n 52193: 'prostrate',\n 40909: 'majid',\n 16479: 'climbed',\n 34731: 'canoeing',\n 52195: 'majin',\n 57804: 'animie',\n 40910: 'sylke',\n 14899: 'conditioned',\n 40911: 'waddell',\n 52196: '3\\x85',\n 41188: 'hyperdrive',\n 34732: 'conditioner',\n 53153: 'bricklayer',\n 2576: 'hong',\n 52198: 'memoriam',\n 30592: 'inventively',\n 25249: \"levant's\",\n 20638: 'portobello',\n 52200: 'remand',\n 19504: 'mummified',\n 27650: 'honk',\n 19505: 'spews',\n 40912: 'visitations',\n 52201: 'mummifies',\n 25250: 'cavanaugh',\n 23385: 'zeon',\n 40913: \"jungle's\",\n 34733: 'viertel',\n 27651: 'frenchmen',\n 52202: 'torpedoes',\n 52203: 'schlessinger',\n 34734: 'torpedoed',\n 69876: 'blister',\n 52204: 'cinefest',\n 34735: 'furlough',\n 52205: 'mainsequence',\n 40914: 'mentors',\n 9094: 'academic',\n 20602: 'stillness',\n 40915: 'academia',\n 52206: 'lonelier',\n 52207: 'nibby',\n 52208: \"losers'\",\n 40916: 'cineastes',\n 4449: 'corporate',\n 40917: 'massaging',\n 30593: 'bellow',\n 19506: 'absurdities',\n 53241: 'expetations',\n 40918: 'nyfiken',\n 75638: 'mehras',\n 52209: 'lasse',\n 52210: 'visability',\n 33946: 'militarily',\n 52211: \"elder'\",\n 19023: 'gainsbourg',\n 20603: 'hah',\n 13420: 'hai',\n 34736: 'haj',\n 25251: 'hak',\n 4311: 'hal',\n 4892: 'ham',\n 53259: 'duffer',\n 52213: 'haa',\n 66: 'had',\n 11930: 'advancement',\n 16825: 'hag',\n 25252: \"hand'\",\n 13421: 'hay',\n 20604: 'mcnamara',\n 52214: \"mozart's\",\n 30731: 'duffel',\n 30594: 'haq',\n 13887: 'har',\n 44: 'has',\n 2401: 'hat',\n 40919: 'hav',\n 30595: 'haw',\n 52215: 'figtings',\n 15495: 'elders',\n 52216: 'underpanted',\n 52217: 'pninson',\n 27652: 'unequivocally',\n 23673: \"barbara's\",\n 52219: \"bello'\",\n 12997: 'indicative',\n 40920: 'yawnfest',\n 52220: 'hexploitation',\n 52221: \"loder's\",\n 27653: 'sleuthing',\n 32622: \"justin's\",\n 52222: \"'ball\",\n 52223: \"'summer\",\n 34935: \"'demons'\",\n 52225: \"mormon's\",\n 34737: \"laughton's\",\n 52226: 'debell',\n 39724: 'shipyard',\n 30597: 'unabashedly',\n 40401: 'disks',\n 2290: 'crowd',\n 10087: 'crowe',\n 56434: \"vancouver's\",\n 34738: 'mosques',\n 6627: 'crown',\n 52227: 'culpas',\n 27654: 'crows',\n 53344: 'surrell',\n 52229: 'flowless',\n 52230: 'sheirk',\n 40923: \"'three\",\n 52231: \"peterson'\",\n 52232: 'ooverall',\n 40924: 'perchance',\n 1321: 'bottom',\n 53363: 'chabert',\n 52233: 'sneha',\n 13888: 'inhuman',\n 52234: 'ichii',\n 52235: 'ursla',\n 30598: 'completly',\n 40925: 'moviedom',\n 52236: 'raddick',\n 51995: 'brundage',\n 40926: 'brigades',\n 1181: 'starring',\n 52237: \"'goal'\",\n 52238: 'caskets',\n 52239: 'willcock',\n 52240: \"threesome's\",\n 52241: \"mosque'\",\n 52242: \"cover's\",\n 17637: 'spaceships',\n 40927: 'anomalous',\n 27655: 'ptsd',\n 52243: 'shirdan',\n 21962: 'obscenity',\n 30599: 'lemmings',\n 30600: 'duccio',\n 52244: \"levene's\",\n 52245: \"'gorby'\",\n 25255: \"teenager's\",\n 5340: 'marshall',\n 9095: 'honeymoon',\n 3231: 'shoots',\n 12258: 'despised',\n 52246: 'okabasho',\n 8289: 'fabric',\n 18515: 'cannavale',\n 3537: 'raped',\n 52247: \"tutt's\",\n 17638: 'grasping',\n 18516: 'despises',\n 40928: \"thief's\",\n 8926: 'rapes',\n 52248: 'raper',\n 27656: \"eyre'\",\n 52249: 'walchek',\n 23386: \"elmo's\",\n 40929: 'perfumes',\n 21918: 'spurting',\n 52250: \"exposition'\\x85\",\n 52251: 'denoting',\n 34740: 'thesaurus',\n 40930: \"shoot'\",\n 49759: 'bonejack',\n 52253: 'simpsonian',\n 30601: 'hebetude',\n 34741: \"hallow's\",\n 52254: 'desperation\\x85',\n 34742: 'incinerator',\n 10308: 'congratulations',\n 52255: 'humbled',\n 5924: \"else's\",\n 40845: 'trelkovski',\n 52256: \"rape'\",\n 59386: \"'chapters'\",\n 52257: '1600s',\n 7253: 'martian',\n 25256: 'nicest',\n 52259: 'eyred',\n 9457: 'passenger',\n 6041: 'disgrace',\n 52260: 'moderne',\n 5120: 'barrymore',\n 52261: 'yankovich',\n 40931: 'moderns',\n 52262: 'studliest',\n 52263: 'bedsheet',\n 14900: 'decapitation',\n 52264: 'slurring',\n 52265: \"'nunsploitation'\",\n 34743: \"'character'\",\n 9880: 'cambodia',\n 52266: 'rebelious',\n 27657: 'pasadena',\n 40932: 'crowne',\n 52267: \"'bedchamber\",\n 52268: 'conjectural',\n 52269: 'appologize',\n 52270: 'halfassing',\n 57816: 'paycheque',\n 20606: 'palms',\n 52271: \"'islands\",\n 40933: 'hawked',\n 21919: 'palme',\n 40934: 'conservatively',\n 64007: 'larp',\n 5558: 'palma',\n 21920: 'smelling',\n 12998: 'aragorn',\n 52272: 'hawker',\n 52273: 'hawkes',\n 3975: 'explosions',\n 8059: 'loren',\n 52274: \"pyle's\",\n 6704: 'shootout',\n 18517: \"mike's\",\n 52275: \"driscoll's\",\n 40935: 'cogsworth',\n 52276: \"britian's\",\n 34744: 'childs',\n 52277: \"portrait's\",\n 3626: 'chain',\n 2497: 'whoever',\n 52278: 'puttered',\n 52279: 'childe',\n 52280: 'maywether',\n 3036: 'chair',\n 52281: \"rance's\",\n 34745: 'machu',\n 4517: 'ballet',\n 34746: 'grapples',\n 76152: 'summerize',\n 30603: 'freelance',\n 52283: \"andrea's\",\n 52284: '\\x91very',\n 45879: 'coolidge',\n 18518: 'mache',\n 52285: 'balled',\n 40937: 'grappled',\n 18519: 'macha',\n 21921: 'underlining',\n 5623: 'macho',\n 19507: 'oversight',\n 25257: 'machi',\n 11311: 'verbally',\n 21922: 'tenacious',\n 40938: 'windshields',\n 18557: 'paychecks',\n 3396: 'jerk',\n 11931: \"good'\",\n 34748: 'prancer',\n 21923: 'prances',\n 52286: 'olympus',\n 21924: 'lark',\n 10785: 'embark',\n 7365: 'gloomy',\n 52287: 'jehaan',\n 52288: 'turaqui',\n 20607: \"child'\",\n 2894: 'locked',\n 52289: 'pranced',\n 2588: 'exact',\n 52290: 'unattuned',\n 783: 'minute',\n 16118: 'skewed',\n 40940: 'hodgins',\n 34749: 'skewer',\n 52291: 'think\\x85',\n 38765: 'rosenstein',\n 52292: 'helmit',\n 34750: 'wrestlemanias',\n 16826: 'hindered',\n 30604: \"martha's\",\n 52293: 'cheree',\n 52294: \"pluckin'\",\n 40941: 'ogles',\n 11932: 'heavyweight',\n 82190: 'aada',\n 11312: 'chopping',\n 61534: 'strongboy',\n 41342: 'hegemonic',\n 40942: 'adorns',\n 41346: 'xxth',\n 34751: 'nobuhiro',\n 52298: 'capitães',\n 52299: 'kavogianni',\n 13422: 'antwerp',\n 6538: 'celebrated',\n 52300: 'roarke',\n 40943: 'baggins',\n 31270: 'cheeseburgers',\n 52301: 'matras',\n 52302: \"nineties'\",\n 52303: \"'craig'\",\n 12999: 'celebrates',\n 3383: 'unintentionally',\n 14362: 'drafted',\n 52304: 'climby',\n 52305: '303',\n 18520: 'oldies',\n 9096: 'climbs',\n 9655: 'honour',\n 34752: 'plucking',\n 30074: '305',\n 5514: 'address',\n 40944: 'menjou',\n 42592: \"'freak'\",\n 19508: 'dwindling',\n 9458: 'benson',\n 52307: 'white’s',\n 40945: 'shamelessness',\n 21925: 'impacted',\n 52308: 'upatz',\n 3840: 'cusack',\n 37567: \"flavia's\",\n 52309: 'effette',\n 34753: 'influx',\n 52310: 'boooooooo',\n 52311: 'dimitrova',\n 13423: 'houseman',\n 25259: 'bigas',\n 52312: 'boylen',\n 52313: 'phillipenes',\n 40946: 'fakery',\n 27658: \"grandpa's\",\n 27659: 'darnell',\n 19509: 'undergone',\n 52315: 'handbags',\n 21926: 'perished',\n 37778: 'pooped',\n 27660: 'vigour',\n 3627: 'opposed',\n 52316: 'etude',\n 11799: \"caine's\",\n 52317: 'doozers',\n 34754: 'photojournals',\n 52318: 'perishes',\n 34755: 'constrains',\n 40948: 'migenes',\n 30605: 'consoled',\n 16827: 'alastair',\n 52319: 'wvs',\n 52320: 'ooooooh',\n 34756: 'approving',\n 40949: 'consoles',\n 52064: 'disparagement',\n 52322: 'futureistic',\n 52323: 'rebounding',\n 52324: \"'date\",\n 52325: 'gregoire',\n 21927: 'rutherford',\n 34757: 'americanised',\n 82196: 'novikov',\n 1042: 'following',\n 34758: 'munroe',\n 52326: \"morita'\",\n 52327: 'christenssen',\n 23106: 'oatmeal',\n 25260: 'fossey',\n 40950: 'livered',\n 13000: 'listens',\n 76164: \"'marci\",\n 52330: \"otis's\",\n 23387: 'thanking',\n 16019: 'maude',\n 34759: 'extensions',\n 52332: 'ameteurish',\n 52333: \"commender's\",\n 27661: 'agricultural',\n 4518: 'convincingly',\n 17639: 'fueled',\n 54014: 'mahattan',\n 40952: \"paris's\",\n 52336: 'vulkan',\n 52337: 'stapes',\n 52338: 'odysessy',\n 12259: 'harmon',\n 4252: 'surfing',\n 23494: 'halloran',\n 49580: 'unbelieveably',\n 52339: \"'offed'\",\n 30607: 'quadrant',\n 19510: 'inhabiting',\n 34760: 'nebbish',\n 40953: 'forebears',\n 34761: 'skirmish',\n 52340: 'ocassionally',\n 52341: \"'resist\",\n 21928: 'impactful',\n 52342: 'spicier',\n 40954: 'touristy',\n 52343: \"'football'\",\n 40955: 'webpage',\n 52345: 'exurbia',\n 52346: 'jucier',\n 14901: 'professors',\n 34762: 'structuring',\n 30608: 'jig',\n 40956: 'overlord',\n 25261: 'disconnect',\n 82201: 'sniffle',\n 40957: 'slimeball',\n 40958: 'jia',\n 16828: 'milked',\n 40959: 'banjoes',\n 1237: 'jim',\n 52348: 'workforces',\n 52349: 'jip',\n 52350: 'rotweiller',\n 34763: 'mundaneness',\n 52351: \"'ninja'\",\n 11040: \"dead'\",\n 40960: \"cipriani's\",\n 20608: 'modestly',\n 52352: \"professor'\",\n 40961: 'shacked',\n 34764: 'bashful',\n 23388: 'sorter',\n 16120: 'overpowering',\n 18521: 'workmanlike',\n 27662: 'henpecked',\n 18522: 'sorted',\n 52354: \"jōb's\",\n 52355: \"'always\",\n 34765: \"'baptists\",\n 52356: 'dreamcatchers',\n 52357: \"'silence'\",\n 21929: 'hickory',\n 52358: 'fun\\x97yet',\n 52359: 'breakumentary',\n 15496: 'didn',\n 52360: 'didi',\n 52361: 'pealing',\n 40962: 'dispite',\n 25262: \"italy's\",\n 21930: 'instability',\n 6539: 'quarter',\n 12608: 'quartet',\n 52362: 'padmé',\n 52363: \"'bleedmedry\",\n 52364: 'pahalniuk',\n 52365: 'honduras',\n 10786: 'bursting',\n 41465: \"pablo's\",\n 52367: 'irremediably',\n 40963: 'presages',\n 57832: 'bowlegged',\n 65183: 'dalip',\n 6260: 'entering',\n 76172: 'newsradio',\n 54150: 'presaged',\n 27663: \"giallo's\",\n 40964: 'bouyant',\n 52368: 'amerterish',\n 18523: 'rajni',\n 30610: 'leeves',\n 34767: 'macauley',\n 612: 'seriously',\n 52369: 'sugercoma',\n 52370: 'grimstead',\n 52371: \"'fairy'\",\n 30611: 'zenda',\n 52372: \"'twins'\",\n 17640: 'realisation',\n 27664: 'highsmith',\n 7817: 'raunchy',\n 40965: 'incentives',\n 52374: 'flatson',\n 35097: 'snooker',\n 16829: 'crazies',\n 14902: 'crazier',\n 7094: 'grandma',\n 52375: 'napunsaktha',\n 30612: 'workmanship',\n 52376: 'reisner',\n 61306: \"sanford's\",\n 52377: '\\x91doña',\n 6108: 'modest',\n 19153: \"everything's\",\n 40966: 'hamer',\n 52379: \"couldn't'\",\n 13001: 'quibble',\n 52380: 'socking',\n 21931: 'tingler',\n 52381: 'gutman',\n 40967: 'lachlan',\n 52382: 'tableaus',\n 52383: 'headbanger',\n 2847: 'spoken',\n 34768: 'cerebrally',\n 23490: \"'road\",\n 21932: 'tableaux',\n 40968: \"proust's\",\n 40969: 'periodical',\n 52385: \"shoveller's\",\n 25263: 'tamara',\n 17641: 'affords',\n 3249: 'concert',\n 87955: \"yara's\",\n 52386: 'someome',\n 8424: 'lingering',\n 41511: \"abraham's\",\n 34769: 'beesley',\n 34770: 'cherbourg',\n 28624: 'kagan',\n 9097: 'snatch',\n 9260: \"miyazaki's\",\n 25264: 'absorbs',\n 40970: \"koltai's\",\n 64027: 'tingled',\n 19511: 'crossroads',\n 16121: 'rehab',\n 52389: 'falworth',\n 52390: 'sequals',\n ...}"
     },
     "execution_count": 23,
     "metadata": {},
     "output_type": "execute_result"
    }
   ],
   "source": [
    "reversed_word_index"
   ],
   "metadata": {
    "collapsed": false,
    "pycharm": {
     "name": "#%%\n"
    }
   }
  },
  {
   "cell_type": "code",
   "execution_count": 24,
   "outputs": [
    {
     "data": {
      "text/plain": "\"the exercise he it is tony falls ask has is found and sophie david order besides and it age cole watch extraordinary would it racist bad them can of order this community dancer of introduced for at does for all with released movies sometimes to for be war rock made all it coming all well fighting in cheap not his movie high and 1969 actors know bad can and chance 6 rave tendency 1974 in homicidal or weren't to and is got say room straightforward legend like that hand some it of looney br about help of you it is over are of straight able of their book an of details have stuff that in not that it her and anyone who so devil's down course sophie to straightforward for have big 3 not also global she this of played sophie there theatre will life are goes in still lion to would to straightforward he parsons who is success save br being before this television god is nobody to tony ask for into and to and have\""
     },
     "execution_count": 24,
     "metadata": {},
     "output_type": "execute_result"
    }
   ],
   "source": [
    "# раскодируем рецензию\n",
    "decode_review = ' '.join([reversed_word_index[i] for i in x_train[19]])\n",
    "decode_review"
   ],
   "metadata": {
    "collapsed": false,
    "pycharm": {
     "name": "#%%\n"
    }
   }
  },
  {
   "cell_type": "code",
   "execution_count": 25,
   "outputs": [],
   "source": [
    "# переведем векторизацию текста отзвыва в оне хот"
   ],
   "metadata": {
    "collapsed": false,
    "pycharm": {
     "name": "#%%\n"
    }
   }
  },
  {
   "cell_type": "code",
   "execution_count": 28,
   "outputs": [],
   "source": [
    "def vectorize_sequences(sequences, dimension=10000):\n",
    "    results = np.zeros((len(sequences), dimension))\n",
    "    for i, sequence in enumerate(sequences):\n",
    "        results[i, sequence] = 1\n",
    "    return results"
   ],
   "metadata": {
    "collapsed": false,
    "pycharm": {
     "name": "#%%\n"
    }
   }
  },
  {
   "cell_type": "code",
   "execution_count": 29,
   "outputs": [],
   "source": [
    "x_train = vectorize_sequences(x_train)\n",
    "x_test = vectorize_sequences(x_test)"
   ],
   "metadata": {
    "collapsed": false,
    "pycharm": {
     "name": "#%%\n"
    }
   }
  },
  {
   "cell_type": "code",
   "execution_count": 30,
   "outputs": [
    {
     "data": {
      "text/plain": "array([0., 1., 1., ..., 0., 0., 0.])"
     },
     "execution_count": 30,
     "metadata": {},
     "output_type": "execute_result"
    }
   ],
   "source": [
    "x_train[0]"
   ],
   "metadata": {
    "collapsed": false,
    "pycharm": {
     "name": "#%%\n"
    }
   }
  },
  {
   "cell_type": "code",
   "execution_count": 31,
   "outputs": [
    {
     "data": {
      "text/plain": "10000"
     },
     "execution_count": 31,
     "metadata": {},
     "output_type": "execute_result"
    }
   ],
   "source": [
    "len(x_train[0])"
   ],
   "metadata": {
    "collapsed": false,
    "pycharm": {
     "name": "#%%\n"
    }
   }
  },
  {
   "cell_type": "code",
   "execution_count": 38,
   "outputs": [
    {
     "name": "stderr",
     "output_type": "stream",
     "text": [
      "2022-08-09 15:21:15.134031: I tensorflow/stream_executor/cuda/cuda_gpu_executor.cc:975] successful NUMA node read from SysFS had negative value (-1), but there must be at least one NUMA node, so returning NUMA node zero\n",
      "2022-08-09 15:21:15.134425: W tensorflow/stream_executor/platform/default/dso_loader.cc:64] Could not load dynamic library 'libcudart.so.11.0'; dlerror: libcudart.so.11.0: cannot open shared object file: No such file or directory\n",
      "2022-08-09 15:21:15.134470: W tensorflow/stream_executor/platform/default/dso_loader.cc:64] Could not load dynamic library 'libcublas.so.11'; dlerror: libcublas.so.11: cannot open shared object file: No such file or directory\n",
      "2022-08-09 15:21:15.134512: W tensorflow/stream_executor/platform/default/dso_loader.cc:64] Could not load dynamic library 'libcublasLt.so.11'; dlerror: libcublasLt.so.11: cannot open shared object file: No such file or directory\n",
      "2022-08-09 15:21:15.134552: W tensorflow/stream_executor/platform/default/dso_loader.cc:64] Could not load dynamic library 'libcufft.so.10'; dlerror: libcufft.so.10: cannot open shared object file: No such file or directory\n",
      "2022-08-09 15:21:15.134591: W tensorflow/stream_executor/platform/default/dso_loader.cc:64] Could not load dynamic library 'libcurand.so.10'; dlerror: libcurand.so.10: cannot open shared object file: No such file or directory\n",
      "2022-08-09 15:21:15.134631: W tensorflow/stream_executor/platform/default/dso_loader.cc:64] Could not load dynamic library 'libcusolver.so.11'; dlerror: libcusolver.so.11: cannot open shared object file: No such file or directory\n",
      "2022-08-09 15:21:15.134671: W tensorflow/stream_executor/platform/default/dso_loader.cc:64] Could not load dynamic library 'libcusparse.so.11'; dlerror: libcusparse.so.11: cannot open shared object file: No such file or directory\n",
      "2022-08-09 15:21:15.134712: W tensorflow/stream_executor/platform/default/dso_loader.cc:64] Could not load dynamic library 'libcudnn.so.8'; dlerror: libcudnn.so.8: cannot open shared object file: No such file or directory\n",
      "2022-08-09 15:21:15.134719: W tensorflow/core/common_runtime/gpu/gpu_device.cc:1850] Cannot dlopen some GPU libraries. Please make sure the missing libraries mentioned above are installed properly if you would like to use GPU. Follow the guide at https://www.tensorflow.org/install/gpu for how to download and setup the required libraries for your platform.\n",
      "Skipping registering GPU devices...\n",
      "2022-08-09 15:21:15.135195: I tensorflow/core/platform/cpu_feature_guard.cc:193] This TensorFlow binary is optimized with oneAPI Deep Neural Network Library (oneDNN) to use the following CPU instructions in performance-critical operations:  AVX2 FMA\n",
      "To enable them in other operations, rebuild TensorFlow with the appropriate compiler flags.\n"
     ]
    }
   ],
   "source": [
    "model = Sequential([\n",
    "    Dense(16, activation='relu', input_shape=(10000,)),\n",
    "    Dense(16, activation='relu'),\n",
    "    Dense(1, activation='sigmoid')\n",
    "])"
   ],
   "metadata": {
    "collapsed": false,
    "pycharm": {
     "name": "#%%\n"
    }
   }
  },
  {
   "cell_type": "code",
   "execution_count": 39,
   "outputs": [
    {
     "name": "stdout",
     "output_type": "stream",
     "text": [
      "Model: \"sequential\"\n",
      "_________________________________________________________________\n",
      " Layer (type)                Output Shape              Param #   \n",
      "=================================================================\n",
      " dense_5 (Dense)             (None, 16)                160016    \n",
      "                                                                 \n",
      " dense_6 (Dense)             (None, 16)                272       \n",
      "                                                                 \n",
      " dense_7 (Dense)             (None, 1)                 17        \n",
      "                                                                 \n",
      "=================================================================\n",
      "Total params: 160,305\n",
      "Trainable params: 160,305\n",
      "Non-trainable params: 0\n",
      "_________________________________________________________________\n"
     ]
    }
   ],
   "source": [
    "model.summary()"
   ],
   "metadata": {
    "collapsed": false,
    "pycharm": {
     "name": "#%%\n"
    }
   }
  },
  {
   "cell_type": "code",
   "execution_count": 43,
   "outputs": [],
   "source": [
    "model.compile(optimizer='rmsprop', loss='binary_crossentropy', metrics=['accuracy'])"
   ],
   "metadata": {
    "collapsed": false,
    "pycharm": {
     "name": "#%%\n"
    }
   }
  },
  {
   "cell_type": "code",
   "execution_count": 44,
   "outputs": [
    {
     "name": "stdout",
     "output_type": "stream",
     "text": [
      "Epoch 1/20\n"
     ]
    },
    {
     "name": "stderr",
     "output_type": "stream",
     "text": [
      "2022-08-09 15:25:45.394722: W tensorflow/core/framework/cpu_allocator_impl.cc:82] Allocation of 900000000 exceeds 10% of free system memory.\n"
     ]
    },
    {
     "name": "stdout",
     "output_type": "stream",
     "text": [
      "176/176 [==============================] - 2s 6ms/step - loss: 0.3676 - accuracy: 0.8565 - val_loss: 0.2736 - val_accuracy: 0.8948\n",
      "Epoch 2/20\n",
      "176/176 [==============================] - 1s 4ms/step - loss: 0.2092 - accuracy: 0.9202 - val_loss: 0.2789 - val_accuracy: 0.8920\n",
      "Epoch 3/20\n",
      "176/176 [==============================] - 1s 4ms/step - loss: 0.1635 - accuracy: 0.9396 - val_loss: 0.3068 - val_accuracy: 0.8920\n",
      "Epoch 4/20\n",
      "176/176 [==============================] - 1s 4ms/step - loss: 0.1330 - accuracy: 0.9529 - val_loss: 0.3415 - val_accuracy: 0.8864\n",
      "Epoch 5/20\n",
      "176/176 [==============================] - 1s 4ms/step - loss: 0.1098 - accuracy: 0.9609 - val_loss: 0.4084 - val_accuracy: 0.8744\n",
      "Epoch 6/20\n",
      "176/176 [==============================] - 1s 5ms/step - loss: 0.0903 - accuracy: 0.9683 - val_loss: 0.4272 - val_accuracy: 0.8824\n",
      "Epoch 7/20\n",
      "176/176 [==============================] - 1s 6ms/step - loss: 0.0722 - accuracy: 0.9746 - val_loss: 0.4978 - val_accuracy: 0.8680\n",
      "Epoch 8/20\n",
      "176/176 [==============================] - 1s 4ms/step - loss: 0.0557 - accuracy: 0.9817 - val_loss: 0.5556 - val_accuracy: 0.8784\n",
      "Epoch 9/20\n",
      "176/176 [==============================] - 1s 5ms/step - loss: 0.0432 - accuracy: 0.9852 - val_loss: 0.6081 - val_accuracy: 0.8732\n",
      "Epoch 10/20\n",
      "176/176 [==============================] - 1s 5ms/step - loss: 0.0310 - accuracy: 0.9903 - val_loss: 0.7028 - val_accuracy: 0.8672\n",
      "Epoch 11/20\n",
      "176/176 [==============================] - 1s 5ms/step - loss: 0.0210 - accuracy: 0.9939 - val_loss: 0.7975 - val_accuracy: 0.8764\n",
      "Epoch 12/20\n",
      "176/176 [==============================] - 1s 5ms/step - loss: 0.0146 - accuracy: 0.9962 - val_loss: 0.9178 - val_accuracy: 0.8624\n",
      "Epoch 13/20\n",
      "176/176 [==============================] - 1s 5ms/step - loss: 0.0098 - accuracy: 0.9978 - val_loss: 1.0086 - val_accuracy: 0.8736\n",
      "Epoch 14/20\n",
      "176/176 [==============================] - 1s 5ms/step - loss: 0.0067 - accuracy: 0.9985 - val_loss: 1.1414 - val_accuracy: 0.8720\n",
      "Epoch 15/20\n",
      "176/176 [==============================] - 1s 5ms/step - loss: 0.0041 - accuracy: 0.9992 - val_loss: 1.2422 - val_accuracy: 0.8668\n",
      "Epoch 16/20\n",
      "176/176 [==============================] - 1s 5ms/step - loss: 0.0037 - accuracy: 0.9989 - val_loss: 1.4644 - val_accuracy: 0.8712\n",
      "Epoch 17/20\n",
      "176/176 [==============================] - 1s 5ms/step - loss: 0.0019 - accuracy: 0.9996 - val_loss: 1.5209 - val_accuracy: 0.8708\n",
      "Epoch 18/20\n",
      "176/176 [==============================] - 1s 5ms/step - loss: 0.0021 - accuracy: 0.9994 - val_loss: 1.5371 - val_accuracy: 0.8700\n",
      "Epoch 19/20\n",
      "176/176 [==============================] - 1s 5ms/step - loss: 8.3513e-04 - accuracy: 0.9998 - val_loss: 1.6831 - val_accuracy: 0.8708\n",
      "Epoch 20/20\n",
      "176/176 [==============================] - 1s 5ms/step - loss: 4.6701e-04 - accuracy: 0.9999 - val_loss: 1.7874 - val_accuracy: 0.8652\n"
     ]
    }
   ],
   "source": [
    "textmodel = model.fit(x_train, y_train, epochs=20, batch_size=128, validation_split=0.1)"
   ],
   "metadata": {
    "collapsed": false,
    "pycharm": {
     "name": "#%%\n"
    }
   }
  },
  {
   "cell_type": "code",
   "execution_count": 45,
   "outputs": [
    {
     "data": {
      "text/plain": "<Figure size 432x288 with 1 Axes>",
      "image/png": "[encoded data removed]"
     },
     "metadata": {
      "needs_background": "light"
     },
     "output_type": "display_data"
    }
   ],
   "source": [
    "plt.plot(textmodel.history['accuracy'], label=\"Обучающий набор\")\n",
    "plt.plot(textmodel.history['val_accuracy'], label=\"Проверочный набор\")\n",
    "plt.xlabel('Эпохи')\n",
    "plt.ylabel('Точность')\n",
    "plt.legend()\n",
    "plt.show()"
   ],
   "metadata": {
    "collapsed": false,
    "pycharm": {
     "name": "#%%\n"
    }
   }
  },
  {
   "cell_type": "code",
   "execution_count": 46,
   "outputs": [
    {
     "name": "stdout",
     "output_type": "stream",
     "text": [
      "120/782 [===>..........................] - ETA: 0s - loss: 1.9038 - accuracy: 0.8417"
     ]
    },
    {
     "name": "stderr",
     "output_type": "stream",
     "text": [
      "2022-08-09 15:29:52.626508: W tensorflow/core/framework/cpu_allocator_impl.cc:82] Allocation of 1000000000 exceeds 10% of free system memory.\n"
     ]
    },
    {
     "name": "stdout",
     "output_type": "stream",
     "text": [
      "782/782 [==============================] - 1s 1ms/step - loss: 1.9737 - accuracy: 0.8452\n"
     ]
    }
   ],
   "source": [
    "finalscore = model.evaluate(x_test, y_test)"
   ],
   "metadata": {
    "collapsed": false,
    "pycharm": {
     "name": "#%%\n"
    }
   }
  },
  {
   "cell_type": "code",
   "execution_count": null,
   "outputs": [],
   "source": [],
   "metadata": {
    "collapsed": false,
    "pycharm": {
     "name": "#%%\n"
    }
   }
  }
 ],
 "metadata": {
  "kernelspec": {
   "display_name": "Python 3",
   "language": "python",
   "name": "python3"
  },
  "language_info": {
   "codemirror_mode": {
    "name": "ipython",
    "version": 2
   },
   "file_extension": ".py",
   "mimetype": "text/x-python",
   "name": "python",
   "nbconvert_exporter": "python",
   "pygments_lexer": "ipython2",
   "version": "2.7.6"
  }
 },
 "nbformat": 4,
 "nbformat_minor": 0
}